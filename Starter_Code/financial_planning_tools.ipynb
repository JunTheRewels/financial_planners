{
 "cells": [
  {
   "cell_type": "markdown",
   "metadata": {},
   "source": [
    "# Financial Planning with APIs and Simulations\n",
    "\n",
    "In this Challenge, you’ll create two financial analysis tools by using a single Jupyter notebook:\n",
    "\n",
    "Part 1: A financial planner for emergencies. The members will be able to use this tool to visualize their current savings. The members can then determine if they have enough reserves for an emergency fund.\n",
    "\n",
    "Part 2: A financial planner for retirement. This tool will forecast the performance of their retirement portfolio in 30 years. To do this, the tool will make an Alpaca API call via the Alpaca SDK to get historical price data for use in Monte Carlo simulations.\n",
    "\n",
    "You’ll use the information from the Monte Carlo simulation to answer questions about the portfolio in your Jupyter notebook.\n",
    "\n"
   ]
  },
  {
   "cell_type": "code",
   "execution_count": 1,
   "metadata": {},
   "outputs": [],
   "source": [
    "# Import the required libraries and dependencies\n",
    "import os\n",
    "import requests\n",
    "import json\n",
    "import pandas as pd\n",
    "from dotenv import load_dotenv\n",
    "import alpaca_trade_api as tradeapi\n",
    "from MCForecastTools import MCSimulation\n",
    "\n",
    "%matplotlib inline"
   ]
  },
  {
   "cell_type": "code",
   "execution_count": 2,
   "metadata": {},
   "outputs": [
    {
     "data": {
      "text/plain": [
       "True"
      ]
     },
     "execution_count": 2,
     "metadata": {},
     "output_type": "execute_result"
    }
   ],
   "source": [
    "# Load the environment variables from the .env file\n",
    "#by calling the load_dotenv function\n",
    "load_dotenv()"
   ]
  },
  {
   "cell_type": "markdown",
   "metadata": {},
   "source": [
    "## Part 1: Create a Financial Planner for Emergencies"
   ]
  },
  {
   "cell_type": "markdown",
   "metadata": {},
   "source": [
    "### Evaluate the Cryptocurrency Wallet by Using the Requests Library\n",
    "\n",
    "In this section, you’ll determine the current value of a member’s cryptocurrency wallet. You’ll collect the current prices for the Bitcoin and Ethereum cryptocurrencies by using the Python Requests library. For the prototype, you’ll assume that the member holds the 1.2 Bitcoins (BTC) and 5.3 Ethereum coins (ETH). To do all this, complete the following steps:\n",
    "\n",
    "1. Create a variable named `monthly_income`, and set its value to `12000`.\n",
    "\n",
    "2. Use the Requests library to get the current price (in US dollars) of Bitcoin (BTC) and Ethereum (ETH) by using the API endpoints that the starter code supplies.\n",
    "\n",
    "3. Navigate the JSON response object to access the current price of each coin, and store each in a variable.\n",
    "\n",
    "    > **Hint** Note the specific identifier for each cryptocurrency in the API JSON response. The Bitcoin identifier is `1`, and the Ethereum identifier is `1027`.\n",
    "\n",
    "4. Calculate the value, in US dollars, of the current amount of each cryptocurrency and of the entire cryptocurrency wallet.\n",
    "\n"
   ]
  },
  {
   "cell_type": "code",
   "execution_count": 3,
   "metadata": {},
   "outputs": [],
   "source": [
    "# The current number of coins for each cryptocurrency asset held in the portfolio.\n",
    "btc_coins = 1.2\n",
    "eth_coins = 5.3"
   ]
  },
  {
   "cell_type": "markdown",
   "metadata": {},
   "source": [
    "#### Step 1: Create a variable named `monthly_income`, and set its value to `12000`."
   ]
  },
  {
   "cell_type": "code",
   "execution_count": 4,
   "metadata": {},
   "outputs": [],
   "source": [
    "# The monthly amount for the member's household income\n",
    "monthly_income = 12000\n"
   ]
  },
  {
   "cell_type": "markdown",
   "metadata": {},
   "source": [
    "#### Review the endpoint URLs for the API calls to Free Crypto API in order to get the current pricing information for both BTC and ETH."
   ]
  },
  {
   "cell_type": "code",
   "execution_count": 5,
   "metadata": {},
   "outputs": [],
   "source": [
    "# The Free Crypto API Call endpoint URLs for the held cryptocurrency assets\n",
    "btc_url = \"https://api.alternative.me/v2/ticker/Bitcoin/?convert=USD\"\n",
    "eth_url = \"https://api.alternative.me/v2/ticker/Ethereum/?convert=USD\""
   ]
  },
  {
   "cell_type": "markdown",
   "metadata": {},
   "source": [
    "#### Step 2. Use the Requests library to get the current price (in US dollars) of Bitcoin (BTC) and Ethereum (ETH) by using the API endpoints that the starter code supplied."
   ]
  },
  {
   "cell_type": "code",
   "execution_count": 6,
   "metadata": {},
   "outputs": [
    {
     "name": "stdout",
     "output_type": "stream",
     "text": [
      "{\n",
      "    \"data\": {\n",
      "        \"1\": {\n",
      "            \"circulating_supply\": 18747193,\n",
      "            \"id\": 1,\n",
      "            \"last_updated\": 1625348695,\n",
      "            \"max_supply\": 21000000,\n",
      "            \"name\": \"Bitcoin\",\n",
      "            \"quotes\": {\n",
      "                \"USD\": {\n",
      "                    \"market_cap\": 653961645004,\n",
      "                    \"percent_change_1h\": 0.361973614467077,\n",
      "                    \"percent_change_24h\": 3.80344413491243,\n",
      "                    \"percent_change_7d\": 9.08753747976308,\n",
      "                    \"percentage_change_1h\": 0.361973614467077,\n",
      "                    \"percentage_change_24h\": 3.80344413491243,\n",
      "                    \"percentage_change_7d\": 9.08753747976308,\n",
      "                    \"price\": 34846.0,\n",
      "                    \"volume_24h\": 22651842436\n",
      "                }\n",
      "            },\n",
      "            \"rank\": 1,\n",
      "            \"symbol\": \"BTC\",\n",
      "            \"total_supply\": 18747193,\n",
      "            \"website_slug\": \"bitcoin\"\n",
      "        }\n",
      "    },\n",
      "    \"metadata\": {\n",
      "        \"error\": null,\n",
      "        \"num_cryptocurrencies\": 1279,\n",
      "        \"timestamp\": 1625348695\n",
      "    }\n",
      "}\n"
     ]
    }
   ],
   "source": [
    "# Using the Python requests library, make an API call to access the current price of BTC\n",
    "btc_response = requests.get(btc_url).json()\n",
    "\n",
    "# Use the json.dumps function to review the response data from the API call\n",
    "# Use the indent and sort_keys parameters to make the response object readable\n",
    "print(json.dumps(btc_response, indent=4, sort_keys=True))\n"
   ]
  },
  {
   "cell_type": "code",
   "execution_count": 7,
   "metadata": {},
   "outputs": [
    {
     "name": "stdout",
     "output_type": "stream",
     "text": [
      "{\n",
      "    \"data\": {\n",
      "        \"1027\": {\n",
      "            \"circulating_supply\": 116546974,\n",
      "            \"id\": 1027,\n",
      "            \"last_updated\": 1625348696,\n",
      "            \"max_supply\": 0,\n",
      "            \"name\": \"Ethereum\",\n",
      "            \"quotes\": {\n",
      "                \"USD\": {\n",
      "                    \"market_cap\": 259353320895,\n",
      "                    \"percent_change_1h\": 0.204661799772324,\n",
      "                    \"percent_change_24h\": 5.06724205738844,\n",
      "                    \"percent_change_7d\": 21.2378172435278,\n",
      "                    \"percentage_change_1h\": 0.204661799772324,\n",
      "                    \"percentage_change_24h\": 5.06724205738844,\n",
      "                    \"percentage_change_7d\": 21.2378172435278,\n",
      "                    \"price\": 2222.85,\n",
      "                    \"volume_24h\": 19866580113\n",
      "                }\n",
      "            },\n",
      "            \"rank\": 2,\n",
      "            \"symbol\": \"ETH\",\n",
      "            \"total_supply\": 116546974,\n",
      "            \"website_slug\": \"ethereum\"\n",
      "        }\n",
      "    },\n",
      "    \"metadata\": {\n",
      "        \"error\": null,\n",
      "        \"num_cryptocurrencies\": 1279,\n",
      "        \"timestamp\": 1625348696\n",
      "    }\n",
      "}\n"
     ]
    }
   ],
   "source": [
    "# Using the Python requests library, make an API call to access the current price ETH\n",
    "eth_response = requests.get(eth_url).json()\n",
    "\n",
    "# Use the json.dumps function to review the response data from the API call\n",
    "# Use the indent and sort_keys parameters to make the response object readable\n",
    "print(json.dumps(eth_response, indent=4, sort_keys=True))\n"
   ]
  },
  {
   "cell_type": "raw",
   "metadata": {},
   "source": []
  },
  {
   "cell_type": "markdown",
   "metadata": {},
   "source": [
    "#### Step 3: Navigate the JSON response object to access the current price of each coin, and store each in a variable."
   ]
  },
  {
   "cell_type": "code",
   "execution_count": 8,
   "metadata": {},
   "outputs": [
    {
     "name": "stdout",
     "output_type": "stream",
     "text": [
      "BTC is currently priced at $ 34846.00 USD.\n"
     ]
    }
   ],
   "source": [
    "# Navigate the BTC response object to access the current price of BTC\n",
    "btc_price = btc_response[\"data\"][\"1\"][\"quotes\"][\"USD\"][\"price\"]\n",
    "\n",
    "# Print the current price of BTC\n",
    "print(f\"BTC is currently priced at ${btc_price: .02f} USD.\")\n"
   ]
  },
  {
   "cell_type": "code",
   "execution_count": 9,
   "metadata": {},
   "outputs": [
    {
     "name": "stdout",
     "output_type": "stream",
     "text": [
      "ETH is currently priced at $ 2222.85 USD.\n"
     ]
    }
   ],
   "source": [
    "# Navigate the BTC response object to access the current price of ETH\n",
    "eth_price = eth_response[\"data\"][\"1027\"][\"quotes\"][\"USD\"][\"price\"]\n",
    "\n",
    "# Print the current price of ETH\n",
    "print(f\"ETH is currently priced at ${eth_price: .02f} USD.\")\n"
   ]
  },
  {
   "cell_type": "markdown",
   "metadata": {},
   "source": [
    "### Step 4: Calculate the value, in US dollars, of the current amount of each cryptocurrency and of the entire cryptocurrency wallet."
   ]
  },
  {
   "cell_type": "code",
   "execution_count": 10,
   "metadata": {},
   "outputs": [
    {
     "name": "stdout",
     "output_type": "stream",
     "text": [
      "The current value of my personal BTC holdings is $ 41815.20.\n"
     ]
    }
   ],
   "source": [
    "# Compute the current value of the BTC holding \n",
    "btc_value = btc_coins * btc_price\n",
    "\n",
    "# Print current value of your holding in BTC\n",
    "print(f\"The current value of my personal BTC holdings is ${btc_value: .02f}.\")\n"
   ]
  },
  {
   "cell_type": "code",
   "execution_count": 11,
   "metadata": {},
   "outputs": [
    {
     "name": "stdout",
     "output_type": "stream",
     "text": [
      "The current value of my personal ETH holdings is $ 41815.20.\n"
     ]
    }
   ],
   "source": [
    "# Compute the current value of the ETH holding \n",
    "eth_value = eth_coins * eth_price\n",
    "\n",
    "# Print current value of your holding in ETH\n",
    "print(f\"The current value of my personal ETH holdings is ${btc_value: .02f}.\")\n"
   ]
  },
  {
   "cell_type": "code",
   "execution_count": 12,
   "metadata": {},
   "outputs": [
    {
     "name": "stdout",
     "output_type": "stream",
     "text": [
      "The current total value of my crypto wallet is $ 53596.30.\n"
     ]
    }
   ],
   "source": [
    "# Compute the total value of the cryptocurrency wallet\n",
    "# Add the value of the BTC holding to the value of the ETH holding\n",
    "total_crypto_wallet = btc_value + eth_value\n",
    "\n",
    "# Print current cryptocurrency wallet balance\n",
    "print(f\"The current total value of my crypto wallet is ${total_crypto_wallet: .02f}.\")\n"
   ]
  },
  {
   "cell_type": "markdown",
   "metadata": {},
   "source": [
    "### Evaluate the Stock and Bond Holdings by Using the Alpaca SDK\n",
    "\n",
    "In this section, you’ll determine the current value of a member’s stock and bond holdings. You’ll make an API call to Alpaca via the Alpaca SDK to get the current closing prices of the SPDR S&P 500 ETF Trust (ticker: SPY) and of the iShares Core US Aggregate Bond ETF (ticker: AGG). For the prototype, assume that the member holds 110 shares of SPY, which represents the stock portion of their portfolio, and 200 shares of AGG, which represents the bond portion. To do all this, complete the following steps:\n",
    "\n",
    "1. In the `Starter_Code` folder, create an environment file (`.env`) to store the values of your Alpaca API key and Alpaca secret key.\n",
    "\n",
    "2. Set the variables for the Alpaca API and secret keys. Using the Alpaca SDK, create the Alpaca `tradeapi.REST` object. In this object, include the parameters for the Alpaca API key, the secret key, and the version number.\n",
    "\n",
    "3. Set the following parameters for the Alpaca API call:\n",
    "\n",
    "    - `tickers`: Use the tickers for the member’s stock and bond holdings.\n",
    "\n",
    "    - `timeframe`: Use a time frame of one day.\n",
    "\n",
    "    - `start_date` and `end_date`: Use the same date for these parameters, and format them with the date of the previous weekday (or `2020-08-07`). This is because you want the one closing price for the most-recent trading day.\n",
    "\n",
    "4. Get the current closing prices for `SPY` and `AGG` by using the Alpaca `get_barset` function. Format the response as a Pandas DataFrame by including the `df` property at the end of the `get_barset` function.\n",
    "\n",
    "5. Navigating the Alpaca response DataFrame, select the `SPY` and `AGG` closing prices, and store them as variables.\n",
    "\n",
    "6. Calculate the value, in US dollars, of the current amount of shares in each of the stock and bond portions of the portfolio, and print the results.\n"
   ]
  },
  {
   "cell_type": "markdown",
   "metadata": {},
   "source": [
    "#### Review the total number of shares held in both (SPY) and (AGG)."
   ]
  },
  {
   "cell_type": "code",
   "execution_count": 13,
   "metadata": {},
   "outputs": [],
   "source": [
    "# Current amount of shares held in both the stock (SPY) and bond (AGG) portion of the portfolio.\n",
    "spy_shares = 110\n",
    "agg_shares = 200\n"
   ]
  },
  {
   "cell_type": "markdown",
   "metadata": {},
   "source": [
    "#### Step 1: In the `Starter_Code` folder, create an environment file (`.env`) to store the values of your Alpaca API key and Alpaca secret key."
   ]
  },
  {
   "cell_type": "markdown",
   "metadata": {},
   "source": [
    "#### Step 2: Set the variables for the Alpaca API and secret keys. Using the Alpaca SDK, create the Alpaca `tradeapi.REST` object. In this object, include the parameters for the Alpaca API key, the secret key, and the version number."
   ]
  },
  {
   "cell_type": "code",
   "execution_count": 14,
   "metadata": {},
   "outputs": [],
   "source": [
    "# Set the variables for the Alpaca API and secret keys\n",
    "alpaca_api_key = os.getenv(\"ALPACA_API_KEY\")\n",
    "alpaca_secret_key = os.getenv(\"ALPACA_SECRET_KEY\")\n",
    "\n",
    "# Create the Alpaca tradeapi.REST object\n",
    "alpaca = tradeapi.REST(\n",
    "    alpaca_api_key,\n",
    "    alpaca_secret_key,\n",
    "    api_version=\"v2\")\n"
   ]
  },
  {
   "cell_type": "markdown",
   "metadata": {},
   "source": [
    "#### Step 3: Set the following parameters for the Alpaca API call:\n",
    "\n",
    "- `tickers`: Use the tickers for the member’s stock and bond holdings.\n",
    "\n",
    "- `timeframe`: Use a time frame of one day.\n",
    "\n",
    "- `start_date` and `end_date`: Use the same date for these parameters, and format them with the date of the previous weekday (or `2020-08-07`). This is because you want the one closing price for the most-recent trading day.\n"
   ]
  },
  {
   "cell_type": "code",
   "execution_count": 15,
   "metadata": {},
   "outputs": [],
   "source": [
    "# Set the tickers for both the bond and stock portion of the portfolio\n",
    "tickers = [\"SPY\", \"AGG\"]\n",
    "\n",
    "# Set timeframe to 1D \n",
    "timeframe = \"1D\"\n",
    "\n",
    "# Format current date as ISO format\n",
    "# Set both the start and end date at the date of your prior weekday \n",
    "# This will give you the closing price of the previous trading day\n",
    "# Alternatively you can use a start and end date of 2020-08-07\n",
    "start_date = pd.Timestamp(\"2021-06-30\", tz=\"America/New_York\").isoformat()\n",
    "end_date = pd.Timestamp(\"2021-06-30\", tz=\"America/New_York\").isoformat()\n"
   ]
  },
  {
   "cell_type": "markdown",
   "metadata": {},
   "source": [
    "#### Step 4: Get the current closing prices for `SPY` and `AGG` by using the Alpaca `get_barset` function. Format the response as a Pandas DataFrame by including the `df` property at the end of the `get_barset` function."
   ]
  },
  {
   "cell_type": "code",
   "execution_count": 16,
   "metadata": {},
   "outputs": [
    {
     "data": {
      "text/html": [
       "<div>\n",
       "<style scoped>\n",
       "    .dataframe tbody tr th:only-of-type {\n",
       "        vertical-align: middle;\n",
       "    }\n",
       "\n",
       "    .dataframe tbody tr th {\n",
       "        vertical-align: top;\n",
       "    }\n",
       "\n",
       "    .dataframe thead tr th {\n",
       "        text-align: left;\n",
       "    }\n",
       "\n",
       "    .dataframe thead tr:last-of-type th {\n",
       "        text-align: right;\n",
       "    }\n",
       "</style>\n",
       "<table border=\"1\" class=\"dataframe\">\n",
       "  <thead>\n",
       "    <tr>\n",
       "      <th></th>\n",
       "      <th colspan=\"5\" halign=\"left\">AGG</th>\n",
       "      <th colspan=\"5\" halign=\"left\">SPY</th>\n",
       "    </tr>\n",
       "    <tr>\n",
       "      <th></th>\n",
       "      <th>open</th>\n",
       "      <th>high</th>\n",
       "      <th>low</th>\n",
       "      <th>close</th>\n",
       "      <th>volume</th>\n",
       "      <th>open</th>\n",
       "      <th>high</th>\n",
       "      <th>low</th>\n",
       "      <th>close</th>\n",
       "      <th>volume</th>\n",
       "    </tr>\n",
       "    <tr>\n",
       "      <th>time</th>\n",
       "      <th></th>\n",
       "      <th></th>\n",
       "      <th></th>\n",
       "      <th></th>\n",
       "      <th></th>\n",
       "      <th></th>\n",
       "      <th></th>\n",
       "      <th></th>\n",
       "      <th></th>\n",
       "      <th></th>\n",
       "    </tr>\n",
       "  </thead>\n",
       "  <tbody>\n",
       "    <tr>\n",
       "      <th>2021-06-30 00:00:00-04:00</th>\n",
       "      <td>115.36</td>\n",
       "      <td>115.45</td>\n",
       "      <td>115.3</td>\n",
       "      <td>115.35</td>\n",
       "      <td>5984381</td>\n",
       "      <td>427.2</td>\n",
       "      <td>428.78</td>\n",
       "      <td>427.18</td>\n",
       "      <td>428.08</td>\n",
       "      <td>46776402</td>\n",
       "    </tr>\n",
       "  </tbody>\n",
       "</table>\n",
       "</div>"
      ],
      "text/plain": [
       "                              AGG                                    SPY  \\\n",
       "                             open    high    low   close   volume   open   \n",
       "time                                                                       \n",
       "2021-06-30 00:00:00-04:00  115.36  115.45  115.3  115.35  5984381  427.2   \n",
       "\n",
       "                                                             \n",
       "                             high     low   close    volume  \n",
       "time                                                         \n",
       "2021-06-30 00:00:00-04:00  428.78  427.18  428.08  46776402  "
      ]
     },
     "execution_count": 16,
     "metadata": {},
     "output_type": "execute_result"
    }
   ],
   "source": [
    "# Use the Alpaca get_barset function to get current closing prices the portfolio\n",
    "# Be sure to set the `df` property after the function to format the response object as a DataFrame\n",
    "portfolio_df = alpaca.get_barset(\n",
    "    tickers,\n",
    "    timeframe,\n",
    "    start=start_date,\n",
    "    end=end_date\n",
    ").df\n",
    "\n",
    "# Review the first 5 rows of the Alpaca DataFrame\n",
    "portfolio_df.head()\n"
   ]
  },
  {
   "cell_type": "markdown",
   "metadata": {},
   "source": [
    "#### Step 5: Navigating the Alpaca response DataFrame, select the `SPY` and `AGG` closing prices, and store them as variables."
   ]
  },
  {
   "cell_type": "code",
   "execution_count": 17,
   "metadata": {},
   "outputs": [
    {
     "name": "stdout",
     "output_type": "stream",
     "text": [
      "Yesterday's close price of AGG was $115.35.\n"
     ]
    }
   ],
   "source": [
    "# Access the closing price for AGG from the Alpaca DataFrame\n",
    "# Converting the value to a floating point number\n",
    "agg_close_price = float(portfolio_df[\"AGG\"][\"close\"])\n",
    "\n",
    "# Print the AGG closing price\n",
    "print(f\"Yesterday's close price of AGG was ${agg_close_price}.\")\n"
   ]
  },
  {
   "cell_type": "code",
   "execution_count": 18,
   "metadata": {},
   "outputs": [
    {
     "name": "stdout",
     "output_type": "stream",
     "text": [
      "Yesterday's close price of SPY was $428.08.\n"
     ]
    }
   ],
   "source": [
    "# Access the closing price for SPY from the Alpaca DataFrame\n",
    "# Converting the value to a floating point number\n",
    "spy_close_price = float(portfolio_df[\"SPY\"][\"close\"])\n",
    "\n",
    "# Print the SPY closing price\n",
    "print(f\"Yesterday's close price of SPY was ${spy_close_price}.\")\n"
   ]
  },
  {
   "cell_type": "markdown",
   "metadata": {},
   "source": [
    "#### Step 6: Calculate the value, in US dollars, of the current amount of shares in each of the stock and bond portions of the portfolio, and print the results."
   ]
  },
  {
   "cell_type": "code",
   "execution_count": 19,
   "metadata": {},
   "outputs": [
    {
     "name": "stdout",
     "output_type": "stream",
     "text": [
      "The value of my bond portfolio as of market close yesterday was $ 23070.00.\n"
     ]
    }
   ],
   "source": [
    "# Calculate the current value of the bond portion of the portfolio\n",
    "agg_value = agg_shares * agg_close_price\n",
    "\n",
    "# Print the current value of the bond portfolio\n",
    "print(f\"The value of my bond portfolio as of market close yesterday was ${agg_value: .02f}.\")\n"
   ]
  },
  {
   "cell_type": "code",
   "execution_count": 20,
   "metadata": {},
   "outputs": [
    {
     "name": "stdout",
     "output_type": "stream",
     "text": [
      "The value of my stock portfolio as of market close yesterday was $ 47088.80.\n"
     ]
    }
   ],
   "source": [
    "# Calculate the current value of the stock portion of the portfolio\n",
    "spy_value = spy_shares * spy_close_price\n",
    "\n",
    "# Print the current value of the stock portfolio\n",
    "print(f\"The value of my stock portfolio as of market close yesterday was ${spy_value: .02f}.\")\n"
   ]
  },
  {
   "cell_type": "code",
   "execution_count": 21,
   "metadata": {},
   "outputs": [
    {
     "name": "stdout",
     "output_type": "stream",
     "text": [
      "The value of my combined stock and bond portfolio as of market close yesterday was $ 70158.80.\n"
     ]
    }
   ],
   "source": [
    "# Calculate the total value of the stock and bond portion of the portfolio\n",
    "total_stocks_bonds = agg_value + spy_value\n",
    "\n",
    "# Print the current balance of the stock and bond portion of the portfolio\n",
    "print(f\"The value of my combined stock and bond portfolio as of market close yesterday was ${total_stocks_bonds: .02f}.\")\n"
   ]
  },
  {
   "cell_type": "code",
   "execution_count": 22,
   "metadata": {},
   "outputs": [
    {
     "name": "stdout",
     "output_type": "stream",
     "text": [
      "The current value of my full portfolio is $ 123755.10.\n"
     ]
    }
   ],
   "source": [
    "# Calculate the total value of the member's entire savings portfolio\n",
    "# Add the value of the cryptocurrency walled to the value of the total stocks and bonds\n",
    "total_portfolio = total_crypto_wallet + total_stocks_bonds\n",
    "\n",
    "# Print current cryptocurrency wallet balance\n",
    "print(f\"The current value of my full portfolio is ${total_portfolio: .02f}.\")\n",
    "\n"
   ]
  },
  {
   "cell_type": "markdown",
   "metadata": {},
   "source": [
    "### Evaluate the Emergency Fund\n",
    "\n",
    "In this section, you’ll use the valuations for the cryptocurrency wallet and for the stock and bond portions of the portfolio to determine if the credit union member has enough savings to build an emergency fund into their financial plan. To do this, complete the following steps:\n",
    "\n",
    "1. Create a Python list named `savings_data` that has two elements. The first element contains the total value of the cryptocurrency wallet. The second element contains the total value of the stock and bond portions of the portfolio.\n",
    "\n",
    "2. Use the `savings_data` list to create a Pandas DataFrame named `savings_df`, and then display this DataFrame. The function to create the DataFrame should take the following three parameters:\n",
    "\n",
    "    - `savings_data`: Use the list that you just created.\n",
    "\n",
    "    - `columns`: Set this parameter equal to a Python list with a single value called `amount`.\n",
    "\n",
    "    - `index`: Set this parameter equal to a Python list with the values of `crypto` and `stock/bond`.\n",
    "\n",
    "3. Use the `savings_df` DataFrame to plot a pie chart that visualizes the composition of the member’s portfolio. The y-axis of the pie chart uses `amount`. Be sure to add a title.\n",
    "\n",
    "4. Using Python, determine if the current portfolio has enough to create an emergency fund as part of the member’s financial plan. Ideally, an emergency fund should equal to three times the member’s monthly income. To do this, implement the following steps:\n",
    "\n",
    "    1. Create a variable named `emergency_fund_value`, and set it equal to three times the value of the member’s `monthly_income` of $12000. (You set this earlier in Part 1).\n",
    "\n",
    "    2. Create a series of three if statements to determine if the member’s total portfolio is large enough to fund the emergency portfolio:\n",
    "\n",
    "        1. If the total portfolio value is greater than the emergency fund value, display a message congratulating the member for having enough money in this fund.\n",
    "\n",
    "        2. Else if the total portfolio value is equal to the emergency fund value, display a message congratulating the member on reaching this important financial goal.\n",
    "\n",
    "        3. Else the total portfolio is less than the emergency fund value, so display a message showing how many dollars away the member is from reaching the goal. (Subtract the total portfolio value from the emergency fund value.)\n"
   ]
  },
  {
   "cell_type": "markdown",
   "metadata": {},
   "source": [
    "#### Step 1: Create a Python list named `savings_data` that has two elements. The first element contains the total value of the cryptocurrency wallet. The second element contains the total value of the stock and bond portions of the portfolio."
   ]
  },
  {
   "cell_type": "code",
   "execution_count": 23,
   "metadata": {},
   "outputs": [
    {
     "data": {
      "text/plain": [
       "[53596.30499999999, 70158.79999999999]"
      ]
     },
     "execution_count": 23,
     "metadata": {},
     "output_type": "execute_result"
    }
   ],
   "source": [
    "# Consolidate financial assets data into a Python list\n",
    "savings_data = [total_crypto_wallet, total_stocks_bonds]\n",
    "\n",
    "# Review the Python list savings_data\n",
    "savings_data\n",
    "    "
   ]
  },
  {
   "cell_type": "markdown",
   "metadata": {},
   "source": [
    "#### Step 2: Use the `savings_data` list to create a Pandas DataFrame named `savings_df`, and then display this DataFrame. The function to create the DataFrame should take the following three parameters:\n",
    "\n",
    "- `savings_data`: Use the list that you just created.\n",
    "\n",
    "- `columns`: Set this parameter equal to a Python list with a single value called `amount`.\n",
    "\n",
    "- `index`: Set this parameter equal to a Python list with the values of `crypto` and `stock/bond`.\n"
   ]
  },
  {
   "cell_type": "code",
   "execution_count": 24,
   "metadata": {},
   "outputs": [
    {
     "data": {
      "text/html": [
       "<div>\n",
       "<style scoped>\n",
       "    .dataframe tbody tr th:only-of-type {\n",
       "        vertical-align: middle;\n",
       "    }\n",
       "\n",
       "    .dataframe tbody tr th {\n",
       "        vertical-align: top;\n",
       "    }\n",
       "\n",
       "    .dataframe thead th {\n",
       "        text-align: right;\n",
       "    }\n",
       "</style>\n",
       "<table border=\"1\" class=\"dataframe\">\n",
       "  <thead>\n",
       "    <tr style=\"text-align: right;\">\n",
       "      <th></th>\n",
       "      <th>amount</th>\n",
       "    </tr>\n",
       "  </thead>\n",
       "  <tbody>\n",
       "    <tr>\n",
       "      <th>crypto</th>\n",
       "      <td>53596.305</td>\n",
       "    </tr>\n",
       "    <tr>\n",
       "      <th>stock/bond</th>\n",
       "      <td>70158.800</td>\n",
       "    </tr>\n",
       "  </tbody>\n",
       "</table>\n",
       "</div>"
      ],
      "text/plain": [
       "               amount\n",
       "crypto      53596.305\n",
       "stock/bond  70158.800"
      ]
     },
     "execution_count": 24,
     "metadata": {},
     "output_type": "execute_result"
    }
   ],
   "source": [
    "# Create a Pandas DataFrame called savings_df \n",
    "savings_df = pd.DataFrame(\n",
    "    savings_data,\n",
    "    columns=[\"amount\"],\n",
    "    index=[\"crypto\", \"stock/bond\"])\n",
    "\n",
    "# Display the savings_df DataFrame\n",
    "savings_df\n"
   ]
  },
  {
   "cell_type": "markdown",
   "metadata": {},
   "source": [
    "#### Step 3: Use the `savings_df` DataFrame to plot a pie chart that visualizes the composition of the member’s portfolio. The y-axis of the pie chart uses `amount`. Be sure to add a title."
   ]
  },
  {
   "cell_type": "code",
   "execution_count": 25,
   "metadata": {},
   "outputs": [
    {
     "data": {
      "text/plain": [
       "<AxesSubplot:ylabel='amount'>"
      ]
     },
     "execution_count": 25,
     "metadata": {},
     "output_type": "execute_result"
    },
    {
     "data": {
      "image/png": "[encoded data removed]",
      "text/plain": [
       "<Figure size 432x288 with 1 Axes>"
      ]
     },
     "metadata": {},
     "output_type": "display_data"
    }
   ],
   "source": [
    "# Plot the total value of the member's portfolio (crypto and stock/bond) in a pie chart\n",
    "savings_df.plot.pie(y=\"amount\")\n"
   ]
  },
  {
   "cell_type": "markdown",
   "metadata": {},
   "source": [
    "#### Step 4: Using Python, determine if the current portfolio has enough to create an emergency fund as part of the member’s financial plan. Ideally, an emergency fund should equal to three times the member’s monthly income. To do this, implement the following steps:\n",
    "\n",
    "Step 1. Create a variable named `emergency_fund_value`, and set it equal to three times the value of the member’s `monthly_income` of 12000. (You set this earlier in Part 1).\n",
    "\n",
    "Step 2. Create a series of three if statements to determine if the member’s total portfolio is large enough to fund the emergency portfolio:\n",
    "\n",
    "* If the total portfolio value is greater than the emergency fund value, display a message congratulating the member for having enough money in this fund.\n",
    "\n",
    "* Else if the total portfolio value is equal to the emergency fund value, display a message congratulating the member on reaching this important financial goal.\n",
    "\n",
    "* Else the total portfolio is less than the emergency fund value, so display a message showing how many dollars away the member is from reaching the goal. (Subtract the total portfolio value from the emergency fund value.)\n"
   ]
  },
  {
   "cell_type": "markdown",
   "metadata": {},
   "source": [
    "##### Step 4-1: Create a variable named `emergency_fund_value`, and set it equal to three times the value of the member’s `monthly_income` of 12000. (You set this earlier in Part 1)."
   ]
  },
  {
   "cell_type": "code",
   "execution_count": 26,
   "metadata": {},
   "outputs": [],
   "source": [
    "# Create a variable named emergency_fund_value\n",
    "emergency_fund_value = monthly_income * 3\n"
   ]
  },
  {
   "cell_type": "markdown",
   "metadata": {},
   "source": [
    "##### Step 4-2: Create a series of three if statements to determine if the member’s total portfolio is large enough to fund the emergency portfolio:\n",
    "\n",
    "* If the total portfolio value is greater than the emergency fund value, display a message congratulating the member for having enough money in this fund.\n",
    "\n",
    "* Else if the total portfolio value is equal to the emergency fund value, display a message congratulating the member on reaching this important financial goal.\n",
    "\n",
    "* Else the total portfolio is less than the emergency fund value, so display a message showing how many dollars away the member is from reaching the goal. (Subtract the total portfolio value from the emergency fund value.)"
   ]
  },
  {
   "cell_type": "code",
   "execution_count": 27,
   "metadata": {},
   "outputs": [
    {
     "name": "stdout",
     "output_type": "stream",
     "text": [
      "Aw yeah, you well covered.\n"
     ]
    }
   ],
   "source": [
    "# Evaluate the possibility of creating an emergency fund with 3 conditions:\n",
    "if total_portfolio > emergency_fund_value:\n",
    "    print(\"Aw yeah, you well covered.\")\n",
    "elif total_portfolio == emergency_fund_value:\n",
    "    print(\"Not too shabby, you have enough to keep you outta trouble for a minute.\")\n",
    "else:\n",
    "    deficit = emergency_fund_value - total_portfolio\n",
    "    print(f\"Big yikes, you are still ${deficit: .02f} from your goal. Get it together.\")\n"
   ]
  },
  {
   "cell_type": "markdown",
   "metadata": {},
   "source": [
    "## Part 2: Create a Financial Planner for Retirement"
   ]
  },
  {
   "cell_type": "markdown",
   "metadata": {},
   "source": [
    "### Create the Monte Carlo Simulation\n",
    "\n",
    "In this section, you’ll use the MCForecastTools library to create a Monte Carlo simulation for the member’s savings portfolio. To do this, complete the following steps:\n",
    "\n",
    "1. Make an API call via the Alpaca SDK to get 10 years of historical closing prices for a traditional 60/40 portfolio split: 60% stocks (SPY) and 40% bonds (AGG).\n",
    "\n",
    "2. Run a Monte Carlo simulation of 500 samples and 30 years for the 60/40 portfolio, and then plot the results.The following image shows the overlay line plot resulting from a simulation with these characteristics. However, because a random number generator is used to run each live Monte Carlo simulation, your image will differ slightly from this exact image:\n",
    "\n",
    "![A screenshot depicts the resulting plot.](Images/5-4-monte-carlo-line-plot.png)\n",
    "\n",
    "3. Plot the probability distribution of the Monte Carlo simulation. Plot the probability distribution of the Monte Carlo simulation. The following image shows the histogram plot resulting from a simulation with these characteristics. However, because a random number generator is used to run each live Monte Carlo simulation, your image will differ slightly from this exact image:\n",
    "\n",
    "![A screenshot depicts the histogram plot.](Images/5-4-monte-carlo-histogram.png)\n",
    "\n",
    "4. Generate the summary statistics for the Monte Carlo simulation.\n",
    "\n"
   ]
  },
  {
   "cell_type": "markdown",
   "metadata": {},
   "source": [
    "#### Step 1: Make an API call via the Alpaca SDK to get 10 years of historical closing prices for a traditional 60/40 portfolio split: 60% stocks (SPY) and 40% bonds (AGG)."
   ]
  },
  {
   "cell_type": "code",
   "execution_count": 28,
   "metadata": {},
   "outputs": [],
   "source": [
    "# Set start and end dates of 10 years back from your current date\n",
    "# Alternatively, you can use an end date of 2020-08-07 and work 10 years back from that date \n",
    "start_date_1 = pd.Timestamp(\"2017-07-13\", tz=\"America/New_York\").isoformat()\n",
    "end_date_1 = pd.Timestamp(\"2021-07-01\", tz=\"America/New_York\").isoformat()\n",
    "\n",
    "start_date_2 = pd.Timestamp(\"2013-7-24\", tz=\"America/New_York\").isoformat()\n",
    "end_date_2 = pd.Timestamp(\"2017-07-12\", tz=\"America/New_York\").isoformat()\n",
    "\n",
    "start_date_3 = pd.Timestamp(\"2011-07-01\", tz=\"America/New_York\").isoformat()\n",
    "end_date_3 = pd.Timestamp(\"2013-07-23\", tz=\"America/New_York\").isoformat()"
   ]
  },
  {
   "cell_type": "code",
   "execution_count": 29,
   "metadata": {},
   "outputs": [],
   "source": [
    "# Use the Alpaca get_barset function to make the API call to get the 10 years worth of pricing data\n",
    "# The tickers and timeframe parameters should have been set in Part 1 of this activity \n",
    "# The start and end dates should be updated with the information set above\n",
    "# Remember to add the df property to the end of the call so the response is returned as a DataFrame\n",
    "df_portfolio_1 = alpaca.get_barset(\n",
    "    tickers,\n",
    "    timeframe,\n",
    "    start = start_date_1,\n",
    "    end = end_date_1,\n",
    "    limit = 1000\n",
    ").df\n",
    "\n",
    "df_portfolio_2 = alpaca.get_barset(\n",
    "    tickers,\n",
    "    timeframe,\n",
    "    start = start_date_2,\n",
    "    end = end_date_2,\n",
    "    limit = 1000\n",
    ").df\n",
    "\n",
    "df_portfolio_3 = alpaca.get_barset(\n",
    "    tickers,\n",
    "    timeframe,\n",
    "    start = start_date_3,\n",
    "    end = end_date_3,\n",
    "    limit = 1000\n",
    ").df"
   ]
  },
  {
   "cell_type": "code",
   "execution_count": 30,
   "metadata": {},
   "outputs": [],
   "source": [
    "full_decade_df = pd.concat([df_portfolio_3, df_portfolio_2, df_portfolio_1])\n",
    "\n",
    "full_decade_df.index = full_decade_df.index.date"
   ]
  },
  {
   "cell_type": "code",
   "execution_count": 31,
   "metadata": {},
   "outputs": [
    {
     "data": {
      "text/html": [
       "<div>\n",
       "<style scoped>\n",
       "    .dataframe tbody tr th:only-of-type {\n",
       "        vertical-align: middle;\n",
       "    }\n",
       "\n",
       "    .dataframe tbody tr th {\n",
       "        vertical-align: top;\n",
       "    }\n",
       "\n",
       "    .dataframe thead tr th {\n",
       "        text-align: left;\n",
       "    }\n",
       "</style>\n",
       "<table border=\"1\" class=\"dataframe\">\n",
       "  <thead>\n",
       "    <tr>\n",
       "      <th></th>\n",
       "      <th colspan=\"5\" halign=\"left\">AGG</th>\n",
       "      <th colspan=\"5\" halign=\"left\">SPY</th>\n",
       "    </tr>\n",
       "    <tr>\n",
       "      <th></th>\n",
       "      <th>open</th>\n",
       "      <th>high</th>\n",
       "      <th>low</th>\n",
       "      <th>close</th>\n",
       "      <th>volume</th>\n",
       "      <th>open</th>\n",
       "      <th>high</th>\n",
       "      <th>low</th>\n",
       "      <th>close</th>\n",
       "      <th>volume</th>\n",
       "    </tr>\n",
       "  </thead>\n",
       "  <tbody>\n",
       "    <tr>\n",
       "      <th>2011-07-01</th>\n",
       "      <td>106.50</td>\n",
       "      <td>106.54</td>\n",
       "      <td>106.27</td>\n",
       "      <td>106.46</td>\n",
       "      <td>1940218</td>\n",
       "      <td>132.01</td>\n",
       "      <td>134.10</td>\n",
       "      <td>131.78</td>\n",
       "      <td>133.91</td>\n",
       "      <td>172082833</td>\n",
       "    </tr>\n",
       "    <tr>\n",
       "      <th>2011-07-05</th>\n",
       "      <td>106.64</td>\n",
       "      <td>106.82</td>\n",
       "      <td>106.57</td>\n",
       "      <td>106.80</td>\n",
       "      <td>767342</td>\n",
       "      <td>133.78</td>\n",
       "      <td>134.08</td>\n",
       "      <td>133.39</td>\n",
       "      <td>133.78</td>\n",
       "      <td>140787252</td>\n",
       "    </tr>\n",
       "    <tr>\n",
       "      <th>2011-07-06</th>\n",
       "      <td>106.79</td>\n",
       "      <td>106.93</td>\n",
       "      <td>106.76</td>\n",
       "      <td>106.87</td>\n",
       "      <td>717918</td>\n",
       "      <td>133.49</td>\n",
       "      <td>134.14</td>\n",
       "      <td>133.11</td>\n",
       "      <td>133.96</td>\n",
       "      <td>119084271</td>\n",
       "    </tr>\n",
       "    <tr>\n",
       "      <th>2011-07-07</th>\n",
       "      <td>106.63</td>\n",
       "      <td>106.67</td>\n",
       "      <td>106.45</td>\n",
       "      <td>106.55</td>\n",
       "      <td>1249762</td>\n",
       "      <td>135.16</td>\n",
       "      <td>135.70</td>\n",
       "      <td>134.88</td>\n",
       "      <td>135.40</td>\n",
       "      <td>125820939</td>\n",
       "    </tr>\n",
       "    <tr>\n",
       "      <th>2011-07-08</th>\n",
       "      <td>106.98</td>\n",
       "      <td>107.20</td>\n",
       "      <td>106.93</td>\n",
       "      <td>107.12</td>\n",
       "      <td>661425</td>\n",
       "      <td>133.82</td>\n",
       "      <td>134.44</td>\n",
       "      <td>133.39</td>\n",
       "      <td>134.41</td>\n",
       "      <td>139456296</td>\n",
       "    </tr>\n",
       "  </tbody>\n",
       "</table>\n",
       "</div>"
      ],
      "text/plain": [
       "               AGG                                      SPY                  \\\n",
       "              open    high     low   close   volume    open    high     low   \n",
       "2011-07-01  106.50  106.54  106.27  106.46  1940218  132.01  134.10  131.78   \n",
       "2011-07-05  106.64  106.82  106.57  106.80   767342  133.78  134.08  133.39   \n",
       "2011-07-06  106.79  106.93  106.76  106.87   717918  133.49  134.14  133.11   \n",
       "2011-07-07  106.63  106.67  106.45  106.55  1249762  135.16  135.70  134.88   \n",
       "2011-07-08  106.98  107.20  106.93  107.12   661425  133.82  134.44  133.39   \n",
       "\n",
       "                               \n",
       "             close     volume  \n",
       "2011-07-01  133.91  172082833  \n",
       "2011-07-05  133.78  140787252  \n",
       "2011-07-06  133.96  119084271  \n",
       "2011-07-07  135.40  125820939  \n",
       "2011-07-08  134.41  139456296  "
      ]
     },
     "metadata": {},
     "output_type": "display_data"
    },
    {
     "data": {
      "text/html": [
       "<div>\n",
       "<style scoped>\n",
       "    .dataframe tbody tr th:only-of-type {\n",
       "        vertical-align: middle;\n",
       "    }\n",
       "\n",
       "    .dataframe tbody tr th {\n",
       "        vertical-align: top;\n",
       "    }\n",
       "\n",
       "    .dataframe thead tr th {\n",
       "        text-align: left;\n",
       "    }\n",
       "</style>\n",
       "<table border=\"1\" class=\"dataframe\">\n",
       "  <thead>\n",
       "    <tr>\n",
       "      <th></th>\n",
       "      <th colspan=\"5\" halign=\"left\">AGG</th>\n",
       "      <th colspan=\"5\" halign=\"left\">SPY</th>\n",
       "    </tr>\n",
       "    <tr>\n",
       "      <th></th>\n",
       "      <th>open</th>\n",
       "      <th>high</th>\n",
       "      <th>low</th>\n",
       "      <th>close</th>\n",
       "      <th>volume</th>\n",
       "      <th>open</th>\n",
       "      <th>high</th>\n",
       "      <th>low</th>\n",
       "      <th>close</th>\n",
       "      <th>volume</th>\n",
       "    </tr>\n",
       "  </thead>\n",
       "  <tbody>\n",
       "    <tr>\n",
       "      <th>2021-06-25</th>\n",
       "      <td>115.11</td>\n",
       "      <td>115.13</td>\n",
       "      <td>114.7516</td>\n",
       "      <td>114.890</td>\n",
       "      <td>3987588</td>\n",
       "      <td>425.90</td>\n",
       "      <td>427.0943</td>\n",
       "      <td>425.55</td>\n",
       "      <td>426.57</td>\n",
       "      <td>50460394</td>\n",
       "    </tr>\n",
       "    <tr>\n",
       "      <th>2021-06-28</th>\n",
       "      <td>115.04</td>\n",
       "      <td>115.23</td>\n",
       "      <td>115.0400</td>\n",
       "      <td>115.160</td>\n",
       "      <td>5523690</td>\n",
       "      <td>427.17</td>\n",
       "      <td>427.6500</td>\n",
       "      <td>425.89</td>\n",
       "      <td>427.48</td>\n",
       "      <td>43937373</td>\n",
       "    </tr>\n",
       "    <tr>\n",
       "      <th>2021-06-29</th>\n",
       "      <td>115.06</td>\n",
       "      <td>115.25</td>\n",
       "      <td>115.0450</td>\n",
       "      <td>115.250</td>\n",
       "      <td>3469405</td>\n",
       "      <td>427.89</td>\n",
       "      <td>428.5600</td>\n",
       "      <td>427.13</td>\n",
       "      <td>427.68</td>\n",
       "      <td>32097572</td>\n",
       "    </tr>\n",
       "    <tr>\n",
       "      <th>2021-06-30</th>\n",
       "      <td>115.36</td>\n",
       "      <td>115.45</td>\n",
       "      <td>115.3000</td>\n",
       "      <td>115.350</td>\n",
       "      <td>5984381</td>\n",
       "      <td>427.20</td>\n",
       "      <td>428.7800</td>\n",
       "      <td>427.18</td>\n",
       "      <td>428.08</td>\n",
       "      <td>46776402</td>\n",
       "    </tr>\n",
       "    <tr>\n",
       "      <th>2021-07-01</th>\n",
       "      <td>115.15</td>\n",
       "      <td>115.19</td>\n",
       "      <td>115.0100</td>\n",
       "      <td>115.115</td>\n",
       "      <td>4439326</td>\n",
       "      <td>428.83</td>\n",
       "      <td>430.6000</td>\n",
       "      <td>428.80</td>\n",
       "      <td>430.47</td>\n",
       "      <td>44147835</td>\n",
       "    </tr>\n",
       "  </tbody>\n",
       "</table>\n",
       "</div>"
      ],
      "text/plain": [
       "               AGG                                         SPY            \\\n",
       "              open    high       low    close   volume    open      high   \n",
       "2021-06-25  115.11  115.13  114.7516  114.890  3987588  425.90  427.0943   \n",
       "2021-06-28  115.04  115.23  115.0400  115.160  5523690  427.17  427.6500   \n",
       "2021-06-29  115.06  115.25  115.0450  115.250  3469405  427.89  428.5600   \n",
       "2021-06-30  115.36  115.45  115.3000  115.350  5984381  427.20  428.7800   \n",
       "2021-07-01  115.15  115.19  115.0100  115.115  4439326  428.83  430.6000   \n",
       "\n",
       "                                      \n",
       "               low   close    volume  \n",
       "2021-06-25  425.55  426.57  50460394  \n",
       "2021-06-28  425.89  427.48  43937373  \n",
       "2021-06-29  427.13  427.68  32097572  \n",
       "2021-06-30  427.18  428.08  46776402  \n",
       "2021-07-01  428.80  430.47  44147835  "
      ]
     },
     "metadata": {},
     "output_type": "display_data"
    }
   ],
   "source": [
    "# Display both the first and last five rows of the DataFrame\n",
    "display(full_decade_df.head())\n",
    "display(full_decade_df.tail())"
   ]
  },
  {
   "cell_type": "markdown",
   "metadata": {},
   "source": [
    "#### Step 2: Run a Monte Carlo simulation of 500 samples and 30 years for the 60/40 portfolio, and then plot the results."
   ]
  },
  {
   "cell_type": "code",
   "execution_count": 32,
   "metadata": {},
   "outputs": [],
   "source": [
    "# Configure the Monte Carlo simulation to forecast 30 years cumulative returns\n",
    "# The weights should be split 40% to AGG and 60% to SPY.\n",
    "# Run 500 samples."
   ]
  },
  {
   "cell_type": "code",
   "execution_count": 33,
   "metadata": {},
   "outputs": [
    {
     "data": {
      "text/html": [
       "<div>\n",
       "<style scoped>\n",
       "    .dataframe tbody tr th:only-of-type {\n",
       "        vertical-align: middle;\n",
       "    }\n",
       "\n",
       "    .dataframe tbody tr th {\n",
       "        vertical-align: top;\n",
       "    }\n",
       "\n",
       "    .dataframe thead tr th {\n",
       "        text-align: left;\n",
       "    }\n",
       "</style>\n",
       "<table border=\"1\" class=\"dataframe\">\n",
       "  <thead>\n",
       "    <tr>\n",
       "      <th></th>\n",
       "      <th colspan=\"6\" halign=\"left\">AGG</th>\n",
       "      <th colspan=\"6\" halign=\"left\">SPY</th>\n",
       "    </tr>\n",
       "    <tr>\n",
       "      <th></th>\n",
       "      <th>open</th>\n",
       "      <th>high</th>\n",
       "      <th>low</th>\n",
       "      <th>close</th>\n",
       "      <th>volume</th>\n",
       "      <th>daily_return</th>\n",
       "      <th>open</th>\n",
       "      <th>high</th>\n",
       "      <th>low</th>\n",
       "      <th>close</th>\n",
       "      <th>volume</th>\n",
       "      <th>daily_return</th>\n",
       "    </tr>\n",
       "  </thead>\n",
       "  <tbody>\n",
       "    <tr>\n",
       "      <th>2011-07-01</th>\n",
       "      <td>106.50</td>\n",
       "      <td>106.54</td>\n",
       "      <td>106.27</td>\n",
       "      <td>106.46</td>\n",
       "      <td>1940218</td>\n",
       "      <td>NaN</td>\n",
       "      <td>132.01</td>\n",
       "      <td>134.10</td>\n",
       "      <td>131.78</td>\n",
       "      <td>133.91</td>\n",
       "      <td>172082833</td>\n",
       "      <td>NaN</td>\n",
       "    </tr>\n",
       "    <tr>\n",
       "      <th>2011-07-05</th>\n",
       "      <td>106.64</td>\n",
       "      <td>106.82</td>\n",
       "      <td>106.57</td>\n",
       "      <td>106.80</td>\n",
       "      <td>767342</td>\n",
       "      <td>0.003194</td>\n",
       "      <td>133.78</td>\n",
       "      <td>134.08</td>\n",
       "      <td>133.39</td>\n",
       "      <td>133.78</td>\n",
       "      <td>140787252</td>\n",
       "      <td>-0.000971</td>\n",
       "    </tr>\n",
       "    <tr>\n",
       "      <th>2011-07-06</th>\n",
       "      <td>106.79</td>\n",
       "      <td>106.93</td>\n",
       "      <td>106.76</td>\n",
       "      <td>106.87</td>\n",
       "      <td>717918</td>\n",
       "      <td>0.000655</td>\n",
       "      <td>133.49</td>\n",
       "      <td>134.14</td>\n",
       "      <td>133.11</td>\n",
       "      <td>133.96</td>\n",
       "      <td>119084271</td>\n",
       "      <td>0.001345</td>\n",
       "    </tr>\n",
       "    <tr>\n",
       "      <th>2011-07-07</th>\n",
       "      <td>106.63</td>\n",
       "      <td>106.67</td>\n",
       "      <td>106.45</td>\n",
       "      <td>106.55</td>\n",
       "      <td>1249762</td>\n",
       "      <td>-0.002994</td>\n",
       "      <td>135.16</td>\n",
       "      <td>135.70</td>\n",
       "      <td>134.88</td>\n",
       "      <td>135.40</td>\n",
       "      <td>125820939</td>\n",
       "      <td>0.010749</td>\n",
       "    </tr>\n",
       "    <tr>\n",
       "      <th>2011-07-08</th>\n",
       "      <td>106.98</td>\n",
       "      <td>107.20</td>\n",
       "      <td>106.93</td>\n",
       "      <td>107.12</td>\n",
       "      <td>661425</td>\n",
       "      <td>0.005350</td>\n",
       "      <td>133.82</td>\n",
       "      <td>134.44</td>\n",
       "      <td>133.39</td>\n",
       "      <td>134.41</td>\n",
       "      <td>139456296</td>\n",
       "      <td>-0.007312</td>\n",
       "    </tr>\n",
       "  </tbody>\n",
       "</table>\n",
       "</div>"
      ],
      "text/plain": [
       "               AGG                                                   SPY  \\\n",
       "              open    high     low   close   volume daily_return    open   \n",
       "2011-07-01  106.50  106.54  106.27  106.46  1940218          NaN  132.01   \n",
       "2011-07-05  106.64  106.82  106.57  106.80   767342     0.003194  133.78   \n",
       "2011-07-06  106.79  106.93  106.76  106.87   717918     0.000655  133.49   \n",
       "2011-07-07  106.63  106.67  106.45  106.55  1249762    -0.002994  135.16   \n",
       "2011-07-08  106.98  107.20  106.93  107.12   661425     0.005350  133.82   \n",
       "\n",
       "                                                            \n",
       "              high     low   close     volume daily_return  \n",
       "2011-07-01  134.10  131.78  133.91  172082833          NaN  \n",
       "2011-07-05  134.08  133.39  133.78  140787252    -0.000971  \n",
       "2011-07-06  134.14  133.11  133.96  119084271     0.001345  \n",
       "2011-07-07  135.70  134.88  135.40  125820939     0.010749  \n",
       "2011-07-08  134.44  133.39  134.41  139456296    -0.007312  "
      ]
     },
     "execution_count": 33,
     "metadata": {},
     "output_type": "execute_result"
    }
   ],
   "source": [
    "MC_thirty_year = MCSimulation(\n",
    "    portfolio_data=full_decade_df,\n",
    "    weights=[.40, .60],\n",
    "    num_simulation=500,\n",
    "    num_trading_days=252*30\n",
    ")\n",
    "\n",
    "# Review the simulation input data\n",
    "MC_thirty_year.portfolio_data.head()\n"
   ]
  },
  {
   "cell_type": "code",
   "execution_count": 34,
   "metadata": {},
   "outputs": [
    {
     "name": "stdout",
     "output_type": "stream",
     "text": [
      "Running Monte Carlo simulation number 0.\n",
      "Running Monte Carlo simulation number 10.\n",
      "Running Monte Carlo simulation number 20.\n",
      "Running Monte Carlo simulation number 30.\n",
      "Running Monte Carlo simulation number 40.\n",
      "Running Monte Carlo simulation number 50.\n",
      "Running Monte Carlo simulation number 60.\n",
      "Running Monte Carlo simulation number 70.\n",
      "Running Monte Carlo simulation number 80.\n",
      "Running Monte Carlo simulation number 90.\n",
      "Running Monte Carlo simulation number 100.\n",
      "Running Monte Carlo simulation number 110.\n",
      "Running Monte Carlo simulation number 120.\n",
      "Running Monte Carlo simulation number 130.\n",
      "Running Monte Carlo simulation number 140.\n",
      "Running Monte Carlo simulation number 150.\n",
      "Running Monte Carlo simulation number 160.\n",
      "Running Monte Carlo simulation number 170.\n",
      "Running Monte Carlo simulation number 180.\n",
      "Running Monte Carlo simulation number 190.\n",
      "Running Monte Carlo simulation number 200.\n",
      "Running Monte Carlo simulation number 210.\n",
      "Running Monte Carlo simulation number 220.\n",
      "Running Monte Carlo simulation number 230.\n",
      "Running Monte Carlo simulation number 240.\n",
      "Running Monte Carlo simulation number 250.\n",
      "Running Monte Carlo simulation number 260.\n",
      "Running Monte Carlo simulation number 270.\n",
      "Running Monte Carlo simulation number 280.\n",
      "Running Monte Carlo simulation number 290.\n",
      "Running Monte Carlo simulation number 300.\n",
      "Running Monte Carlo simulation number 310.\n",
      "Running Monte Carlo simulation number 320.\n",
      "Running Monte Carlo simulation number 330.\n",
      "Running Monte Carlo simulation number 340.\n",
      "Running Monte Carlo simulation number 350.\n",
      "Running Monte Carlo simulation number 360.\n",
      "Running Monte Carlo simulation number 370.\n",
      "Running Monte Carlo simulation number 380.\n",
      "Running Monte Carlo simulation number 390.\n",
      "Running Monte Carlo simulation number 400.\n",
      "Running Monte Carlo simulation number 410.\n",
      "Running Monte Carlo simulation number 420.\n",
      "Running Monte Carlo simulation number 430.\n",
      "Running Monte Carlo simulation number 440.\n",
      "Running Monte Carlo simulation number 450.\n",
      "Running Monte Carlo simulation number 460.\n",
      "Running Monte Carlo simulation number 470.\n",
      "Running Monte Carlo simulation number 480.\n",
      "Running Monte Carlo simulation number 490.\n"
     ]
    },
    {
     "data": {
      "text/html": [
       "<div>\n",
       "<style scoped>\n",
       "    .dataframe tbody tr th:only-of-type {\n",
       "        vertical-align: middle;\n",
       "    }\n",
       "\n",
       "    .dataframe tbody tr th {\n",
       "        vertical-align: top;\n",
       "    }\n",
       "\n",
       "    .dataframe thead th {\n",
       "        text-align: right;\n",
       "    }\n",
       "</style>\n",
       "<table border=\"1\" class=\"dataframe\">\n",
       "  <thead>\n",
       "    <tr style=\"text-align: right;\">\n",
       "      <th></th>\n",
       "      <th>0</th>\n",
       "      <th>1</th>\n",
       "      <th>2</th>\n",
       "      <th>3</th>\n",
       "      <th>4</th>\n",
       "      <th>5</th>\n",
       "      <th>6</th>\n",
       "      <th>7</th>\n",
       "      <th>8</th>\n",
       "      <th>9</th>\n",
       "      <th>...</th>\n",
       "      <th>490</th>\n",
       "      <th>491</th>\n",
       "      <th>492</th>\n",
       "      <th>493</th>\n",
       "      <th>494</th>\n",
       "      <th>495</th>\n",
       "      <th>496</th>\n",
       "      <th>497</th>\n",
       "      <th>498</th>\n",
       "      <th>499</th>\n",
       "    </tr>\n",
       "  </thead>\n",
       "  <tbody>\n",
       "    <tr>\n",
       "      <th>0</th>\n",
       "      <td>1.000000</td>\n",
       "      <td>1.000000</td>\n",
       "      <td>1.000000</td>\n",
       "      <td>1.000000</td>\n",
       "      <td>1.000000</td>\n",
       "      <td>1.000000</td>\n",
       "      <td>1.000000</td>\n",
       "      <td>1.000000</td>\n",
       "      <td>1.000000</td>\n",
       "      <td>1.000000</td>\n",
       "      <td>...</td>\n",
       "      <td>1.000000</td>\n",
       "      <td>1.000000</td>\n",
       "      <td>1.000000</td>\n",
       "      <td>1.000000</td>\n",
       "      <td>1.000000</td>\n",
       "      <td>1.000000</td>\n",
       "      <td>1.000000</td>\n",
       "      <td>1.000000</td>\n",
       "      <td>1.000000</td>\n",
       "      <td>1.000000</td>\n",
       "    </tr>\n",
       "    <tr>\n",
       "      <th>1</th>\n",
       "      <td>1.004313</td>\n",
       "      <td>0.996066</td>\n",
       "      <td>0.997316</td>\n",
       "      <td>1.005114</td>\n",
       "      <td>0.997835</td>\n",
       "      <td>1.007433</td>\n",
       "      <td>1.005047</td>\n",
       "      <td>1.003559</td>\n",
       "      <td>1.000674</td>\n",
       "      <td>0.998702</td>\n",
       "      <td>...</td>\n",
       "      <td>1.004246</td>\n",
       "      <td>0.992330</td>\n",
       "      <td>1.003221</td>\n",
       "      <td>0.999911</td>\n",
       "      <td>0.990452</td>\n",
       "      <td>1.009096</td>\n",
       "      <td>0.996206</td>\n",
       "      <td>1.012684</td>\n",
       "      <td>1.000067</td>\n",
       "      <td>0.999682</td>\n",
       "    </tr>\n",
       "    <tr>\n",
       "      <th>2</th>\n",
       "      <td>0.997683</td>\n",
       "      <td>0.997787</td>\n",
       "      <td>1.000184</td>\n",
       "      <td>1.002665</td>\n",
       "      <td>0.995257</td>\n",
       "      <td>1.006665</td>\n",
       "      <td>1.001834</td>\n",
       "      <td>1.009658</td>\n",
       "      <td>1.004361</td>\n",
       "      <td>1.001530</td>\n",
       "      <td>...</td>\n",
       "      <td>1.008124</td>\n",
       "      <td>0.986213</td>\n",
       "      <td>0.999165</td>\n",
       "      <td>1.000400</td>\n",
       "      <td>0.987048</td>\n",
       "      <td>1.004054</td>\n",
       "      <td>0.991581</td>\n",
       "      <td>1.023822</td>\n",
       "      <td>0.993184</td>\n",
       "      <td>0.992239</td>\n",
       "    </tr>\n",
       "    <tr>\n",
       "      <th>3</th>\n",
       "      <td>0.994681</td>\n",
       "      <td>1.002204</td>\n",
       "      <td>0.999967</td>\n",
       "      <td>0.997985</td>\n",
       "      <td>0.989635</td>\n",
       "      <td>1.004495</td>\n",
       "      <td>0.998480</td>\n",
       "      <td>1.001049</td>\n",
       "      <td>1.014317</td>\n",
       "      <td>1.004662</td>\n",
       "      <td>...</td>\n",
       "      <td>1.011273</td>\n",
       "      <td>0.979849</td>\n",
       "      <td>0.993365</td>\n",
       "      <td>0.997879</td>\n",
       "      <td>0.983456</td>\n",
       "      <td>1.010354</td>\n",
       "      <td>0.990199</td>\n",
       "      <td>1.034905</td>\n",
       "      <td>0.985046</td>\n",
       "      <td>1.009610</td>\n",
       "    </tr>\n",
       "    <tr>\n",
       "      <th>4</th>\n",
       "      <td>0.994245</td>\n",
       "      <td>1.008532</td>\n",
       "      <td>1.008435</td>\n",
       "      <td>1.001564</td>\n",
       "      <td>0.988051</td>\n",
       "      <td>1.009621</td>\n",
       "      <td>1.002080</td>\n",
       "      <td>1.012661</td>\n",
       "      <td>1.010810</td>\n",
       "      <td>1.004949</td>\n",
       "      <td>...</td>\n",
       "      <td>1.006704</td>\n",
       "      <td>0.983903</td>\n",
       "      <td>0.991412</td>\n",
       "      <td>1.010022</td>\n",
       "      <td>0.973794</td>\n",
       "      <td>1.017721</td>\n",
       "      <td>0.996641</td>\n",
       "      <td>1.025565</td>\n",
       "      <td>0.984924</td>\n",
       "      <td>0.995960</td>\n",
       "    </tr>\n",
       "    <tr>\n",
       "      <th>...</th>\n",
       "      <td>...</td>\n",
       "      <td>...</td>\n",
       "      <td>...</td>\n",
       "      <td>...</td>\n",
       "      <td>...</td>\n",
       "      <td>...</td>\n",
       "      <td>...</td>\n",
       "      <td>...</td>\n",
       "      <td>...</td>\n",
       "      <td>...</td>\n",
       "      <td>...</td>\n",
       "      <td>...</td>\n",
       "      <td>...</td>\n",
       "      <td>...</td>\n",
       "      <td>...</td>\n",
       "      <td>...</td>\n",
       "      <td>...</td>\n",
       "      <td>...</td>\n",
       "      <td>...</td>\n",
       "      <td>...</td>\n",
       "      <td>...</td>\n",
       "    </tr>\n",
       "    <tr>\n",
       "      <th>7556</th>\n",
       "      <td>31.977942</td>\n",
       "      <td>17.715783</td>\n",
       "      <td>8.091296</td>\n",
       "      <td>39.792294</td>\n",
       "      <td>5.971303</td>\n",
       "      <td>14.392417</td>\n",
       "      <td>6.495966</td>\n",
       "      <td>3.946703</td>\n",
       "      <td>9.633193</td>\n",
       "      <td>5.350841</td>\n",
       "      <td>...</td>\n",
       "      <td>13.571937</td>\n",
       "      <td>10.748749</td>\n",
       "      <td>20.123988</td>\n",
       "      <td>12.762623</td>\n",
       "      <td>6.830689</td>\n",
       "      <td>7.064707</td>\n",
       "      <td>10.118001</td>\n",
       "      <td>6.604118</td>\n",
       "      <td>15.926735</td>\n",
       "      <td>6.880294</td>\n",
       "    </tr>\n",
       "    <tr>\n",
       "      <th>7557</th>\n",
       "      <td>31.770451</td>\n",
       "      <td>17.730211</td>\n",
       "      <td>7.992988</td>\n",
       "      <td>39.946623</td>\n",
       "      <td>5.979189</td>\n",
       "      <td>14.395793</td>\n",
       "      <td>6.505488</td>\n",
       "      <td>3.973182</td>\n",
       "      <td>9.427241</td>\n",
       "      <td>5.381420</td>\n",
       "      <td>...</td>\n",
       "      <td>13.598944</td>\n",
       "      <td>10.663232</td>\n",
       "      <td>20.096285</td>\n",
       "      <td>12.718131</td>\n",
       "      <td>6.794425</td>\n",
       "      <td>7.103106</td>\n",
       "      <td>10.082674</td>\n",
       "      <td>6.541348</td>\n",
       "      <td>15.881132</td>\n",
       "      <td>6.845037</td>\n",
       "    </tr>\n",
       "    <tr>\n",
       "      <th>7558</th>\n",
       "      <td>31.669233</td>\n",
       "      <td>17.652499</td>\n",
       "      <td>7.949205</td>\n",
       "      <td>39.656007</td>\n",
       "      <td>5.977469</td>\n",
       "      <td>14.536557</td>\n",
       "      <td>6.461367</td>\n",
       "      <td>3.993252</td>\n",
       "      <td>9.373182</td>\n",
       "      <td>5.379225</td>\n",
       "      <td>...</td>\n",
       "      <td>13.600351</td>\n",
       "      <td>10.530811</td>\n",
       "      <td>19.980344</td>\n",
       "      <td>12.489059</td>\n",
       "      <td>6.839792</td>\n",
       "      <td>7.130238</td>\n",
       "      <td>10.039529</td>\n",
       "      <td>6.507750</td>\n",
       "      <td>15.877888</td>\n",
       "      <td>6.830004</td>\n",
       "    </tr>\n",
       "    <tr>\n",
       "      <th>7559</th>\n",
       "      <td>31.958945</td>\n",
       "      <td>17.707327</td>\n",
       "      <td>7.991005</td>\n",
       "      <td>39.375646</td>\n",
       "      <td>5.978487</td>\n",
       "      <td>14.602378</td>\n",
       "      <td>6.513432</td>\n",
       "      <td>4.014567</td>\n",
       "      <td>9.440841</td>\n",
       "      <td>5.362533</td>\n",
       "      <td>...</td>\n",
       "      <td>13.902882</td>\n",
       "      <td>10.504218</td>\n",
       "      <td>19.956867</td>\n",
       "      <td>12.593011</td>\n",
       "      <td>6.886905</td>\n",
       "      <td>7.126278</td>\n",
       "      <td>10.049106</td>\n",
       "      <td>6.513936</td>\n",
       "      <td>15.912406</td>\n",
       "      <td>6.781913</td>\n",
       "    </tr>\n",
       "    <tr>\n",
       "      <th>7560</th>\n",
       "      <td>32.289776</td>\n",
       "      <td>17.527190</td>\n",
       "      <td>7.990014</td>\n",
       "      <td>39.114013</td>\n",
       "      <td>5.975894</td>\n",
       "      <td>14.435629</td>\n",
       "      <td>6.554537</td>\n",
       "      <td>4.066838</td>\n",
       "      <td>9.373399</td>\n",
       "      <td>5.389926</td>\n",
       "      <td>...</td>\n",
       "      <td>13.970812</td>\n",
       "      <td>10.577912</td>\n",
       "      <td>19.941694</td>\n",
       "      <td>12.450501</td>\n",
       "      <td>6.885597</td>\n",
       "      <td>7.186423</td>\n",
       "      <td>10.016052</td>\n",
       "      <td>6.524997</td>\n",
       "      <td>15.828958</td>\n",
       "      <td>6.805407</td>\n",
       "    </tr>\n",
       "  </tbody>\n",
       "</table>\n",
       "<p>7561 rows × 500 columns</p>\n",
       "</div>"
      ],
      "text/plain": [
       "            0          1         2          3         4          5    \\\n",
       "0      1.000000   1.000000  1.000000   1.000000  1.000000   1.000000   \n",
       "1      1.004313   0.996066  0.997316   1.005114  0.997835   1.007433   \n",
       "2      0.997683   0.997787  1.000184   1.002665  0.995257   1.006665   \n",
       "3      0.994681   1.002204  0.999967   0.997985  0.989635   1.004495   \n",
       "4      0.994245   1.008532  1.008435   1.001564  0.988051   1.009621   \n",
       "...         ...        ...       ...        ...       ...        ...   \n",
       "7556  31.977942  17.715783  8.091296  39.792294  5.971303  14.392417   \n",
       "7557  31.770451  17.730211  7.992988  39.946623  5.979189  14.395793   \n",
       "7558  31.669233  17.652499  7.949205  39.656007  5.977469  14.536557   \n",
       "7559  31.958945  17.707327  7.991005  39.375646  5.978487  14.602378   \n",
       "7560  32.289776  17.527190  7.990014  39.114013  5.975894  14.435629   \n",
       "\n",
       "           6         7         8         9    ...        490        491  \\\n",
       "0     1.000000  1.000000  1.000000  1.000000  ...   1.000000   1.000000   \n",
       "1     1.005047  1.003559  1.000674  0.998702  ...   1.004246   0.992330   \n",
       "2     1.001834  1.009658  1.004361  1.001530  ...   1.008124   0.986213   \n",
       "3     0.998480  1.001049  1.014317  1.004662  ...   1.011273   0.979849   \n",
       "4     1.002080  1.012661  1.010810  1.004949  ...   1.006704   0.983903   \n",
       "...        ...       ...       ...       ...  ...        ...        ...   \n",
       "7556  6.495966  3.946703  9.633193  5.350841  ...  13.571937  10.748749   \n",
       "7557  6.505488  3.973182  9.427241  5.381420  ...  13.598944  10.663232   \n",
       "7558  6.461367  3.993252  9.373182  5.379225  ...  13.600351  10.530811   \n",
       "7559  6.513432  4.014567  9.440841  5.362533  ...  13.902882  10.504218   \n",
       "7560  6.554537  4.066838  9.373399  5.389926  ...  13.970812  10.577912   \n",
       "\n",
       "            492        493       494       495        496       497  \\\n",
       "0      1.000000   1.000000  1.000000  1.000000   1.000000  1.000000   \n",
       "1      1.003221   0.999911  0.990452  1.009096   0.996206  1.012684   \n",
       "2      0.999165   1.000400  0.987048  1.004054   0.991581  1.023822   \n",
       "3      0.993365   0.997879  0.983456  1.010354   0.990199  1.034905   \n",
       "4      0.991412   1.010022  0.973794  1.017721   0.996641  1.025565   \n",
       "...         ...        ...       ...       ...        ...       ...   \n",
       "7556  20.123988  12.762623  6.830689  7.064707  10.118001  6.604118   \n",
       "7557  20.096285  12.718131  6.794425  7.103106  10.082674  6.541348   \n",
       "7558  19.980344  12.489059  6.839792  7.130238  10.039529  6.507750   \n",
       "7559  19.956867  12.593011  6.886905  7.126278  10.049106  6.513936   \n",
       "7560  19.941694  12.450501  6.885597  7.186423  10.016052  6.524997   \n",
       "\n",
       "            498       499  \n",
       "0      1.000000  1.000000  \n",
       "1      1.000067  0.999682  \n",
       "2      0.993184  0.992239  \n",
       "3      0.985046  1.009610  \n",
       "4      0.984924  0.995960  \n",
       "...         ...       ...  \n",
       "7556  15.926735  6.880294  \n",
       "7557  15.881132  6.845037  \n",
       "7558  15.877888  6.830004  \n",
       "7559  15.912406  6.781913  \n",
       "7560  15.828958  6.805407  \n",
       "\n",
       "[7561 rows x 500 columns]"
      ]
     },
     "execution_count": 34,
     "metadata": {},
     "output_type": "execute_result"
    }
   ],
   "source": [
    "# Run the Monte Carlo simulation to forecast 30 years cumulative returns\n",
    "MC_thirty_year.calc_cumulative_return()"
   ]
  },
  {
   "cell_type": "code",
   "execution_count": 35,
   "metadata": {},
   "outputs": [
    {
     "data": {
      "image/png": "[encoded data removed]",
      "text/plain": [
       "<Figure size 432x288 with 1 Axes>"
      ]
     },
     "metadata": {
      "needs_background": "light"
     },
     "output_type": "display_data"
    }
   ],
   "source": [
    "# Visualize the 30-year Monte Carlo simulation by creating an\n",
    "# overlay line plot\n",
    "MC_sim_line_plot = MC_thirty_year.plot_simulation()\n"
   ]
  },
  {
   "cell_type": "markdown",
   "metadata": {},
   "source": [
    "#### Step 3: Plot the probability distribution of the Monte Carlo simulation."
   ]
  },
  {
   "cell_type": "code",
   "execution_count": 36,
   "metadata": {},
   "outputs": [
    {
     "data": {
      "image/png": "[encoded data removed]",
      "text/plain": [
       "<Figure size 432x288 with 1 Axes>"
      ]
     },
     "metadata": {
      "needs_background": "light"
     },
     "output_type": "display_data"
    }
   ],
   "source": [
    "# Visualize the probability distribution of the 30-year Monte Carlo simulation \n",
    "# by plotting a histogram\n",
    "MC_sim_dist_plot = MC_thirty_year.plot_distribution()\n"
   ]
  },
  {
   "cell_type": "markdown",
   "metadata": {},
   "source": [
    "#### Step 4: Generate the summary statistics for the Monte Carlo simulation."
   ]
  },
  {
   "cell_type": "code",
   "execution_count": 37,
   "metadata": {},
   "outputs": [
    {
     "data": {
      "text/plain": [
       "count           500.000000\n",
       "mean             12.301828\n",
       "std               8.100427\n",
       "min               1.796740\n",
       "25%               6.717820\n",
       "50%              10.029588\n",
       "75%              15.373344\n",
       "max              50.824527\n",
       "95% CI Lower      3.317229\n",
       "95% CI Upper     32.540398\n",
       "Name: 7560, dtype: float64"
      ]
     },
     "execution_count": 37,
     "metadata": {},
     "output_type": "execute_result"
    }
   ],
   "source": [
    "# Generate summary statistics from the 30-year Monte Carlo simulation results\n",
    "# Save the results as a variable\n",
    "MC_summary_statistics = MC_thirty_year.summarize_cumulative_return()\n",
    "\n",
    "\n",
    "# Review the 30-year Monte Carlo summary statistics\n",
    "MC_summary_statistics"
   ]
  },
  {
   "cell_type": "markdown",
   "metadata": {},
   "source": [
    "### Analyze the Retirement Portfolio Forecasts\n",
    "\n",
    "Using the current value of only the stock and bond portion of the member's portfolio and the summary statistics that you generated from the Monte Carlo simulation, answer the following question in your Jupyter notebook:\n",
    "\n",
    "-  What are the lower and upper bounds for the expected value of the portfolio with a 95% confidence interval?\n"
   ]
  },
  {
   "cell_type": "code",
   "execution_count": 38,
   "metadata": {},
   "outputs": [
    {
     "name": "stdout",
     "output_type": "stream",
     "text": [
      "70158.79999999999\n"
     ]
    }
   ],
   "source": [
    "# Print the current balance of the stock and bond portion of the members portfolio\n",
    "print(total_stocks_bonds)\n"
   ]
  },
  {
   "cell_type": "code",
   "execution_count": 39,
   "metadata": {},
   "outputs": [
    {
     "name": "stdout",
     "output_type": "stream",
     "text": [
      "There is a 95% chance that present portfolio with a 60% allocation to SPY and 40% allocation to AGG over the next 30 years will end within in the range of $ 232732.83 and $ 2282995.26.\n"
     ]
    }
   ],
   "source": [
    "# Use the lower and upper `95%` confidence intervals to calculate the range of the possible outcomes for the current stock/bond portfolio\n",
    "ci_95_lower_cumulative_return = MC_summary_statistics[8] * total_stocks_bonds\n",
    "ci_95_upper_cumulative_return = MC_summary_statistics[9] * total_stocks_bonds\n",
    "\n",
    "# Print the result of your calculations\n",
    "print(f\"There is a 95% chance that present portfolio with a 60% allocation to SPY and 40% allocation to AGG over the next 30 years will end within in the range of ${ci_95_lower_cumulative_return: .2f} and ${ci_95_upper_cumulative_return: .2f}.\")\n"
   ]
  },
  {
   "cell_type": "markdown",
   "metadata": {},
   "source": [
    "### Forecast Cumulative Returns in 10 Years\n",
    "\n",
    "The CTO of the credit union is impressed with your work on these planning tools but wonders if 30 years is a long time to wait until retirement. So, your next task is to adjust the retirement portfolio and run a new Monte Carlo simulation to find out if the changes will allow members to retire earlier.\n",
    "\n",
    "For this new Monte Carlo simulation, do the following: \n",
    "\n",
    "- Forecast the cumulative returns for 10 years from now. Because of the shortened investment horizon (30 years to 10 years), the portfolio needs to invest more heavily in the riskier asset&mdash;that is, stock&mdash;to help accumulate wealth for retirement. \n",
    "\n",
    "- Adjust the weights of the retirement portfolio so that the composition for the Monte Carlo simulation consists of 20% bonds and 80% stocks. \n",
    "\n",
    "- Run the simulation over 500 samples, and use the same data that the API call to Alpaca generated.\n",
    "\n",
    "- Based on the new Monte Carlo simulation, answer the following questions in your Jupyter notebook:\n",
    "\n",
    "    - Using the current value of only the stock and bond portion of the member's portfolio and the summary statistics that you generated from the new Monte Carlo simulation, what are the lower and upper bounds for the expected value of the portfolio (with the new weights) with a 95% confidence interval?\n",
    "\n",
    "    - Will weighting the portfolio more heavily toward stocks allow the credit union members to retire after only 10 years?\n"
   ]
  },
  {
   "cell_type": "code",
   "execution_count": 43,
   "metadata": {},
   "outputs": [],
   "source": [
    "# Configure a Monte Carlo simulation to forecast 10 years cumulative returns\n",
    "# The weights should be split 20% to AGG and 80% to SPY.\n",
    "# Run 500 samples.\n",
    "MC_ten_year = MCSimulation(\n",
    "    portfolio_data=full_decade_df,\n",
    "    weights=[.20, .80],\n",
    "    num_simulation=500,\n",
    "    num_trading_days=252*10\n",
    ")"
   ]
  },
  {
   "cell_type": "code",
   "execution_count": 44,
   "metadata": {},
   "outputs": [
    {
     "data": {
      "text/html": [
       "<div>\n",
       "<style scoped>\n",
       "    .dataframe tbody tr th:only-of-type {\n",
       "        vertical-align: middle;\n",
       "    }\n",
       "\n",
       "    .dataframe tbody tr th {\n",
       "        vertical-align: top;\n",
       "    }\n",
       "\n",
       "    .dataframe thead tr th {\n",
       "        text-align: left;\n",
       "    }\n",
       "</style>\n",
       "<table border=\"1\" class=\"dataframe\">\n",
       "  <thead>\n",
       "    <tr>\n",
       "      <th></th>\n",
       "      <th colspan=\"6\" halign=\"left\">AGG</th>\n",
       "      <th colspan=\"6\" halign=\"left\">SPY</th>\n",
       "    </tr>\n",
       "    <tr>\n",
       "      <th></th>\n",
       "      <th>open</th>\n",
       "      <th>high</th>\n",
       "      <th>low</th>\n",
       "      <th>close</th>\n",
       "      <th>volume</th>\n",
       "      <th>daily_return</th>\n",
       "      <th>open</th>\n",
       "      <th>high</th>\n",
       "      <th>low</th>\n",
       "      <th>close</th>\n",
       "      <th>volume</th>\n",
       "      <th>daily_return</th>\n",
       "    </tr>\n",
       "  </thead>\n",
       "  <tbody>\n",
       "    <tr>\n",
       "      <th>2011-07-01</th>\n",
       "      <td>106.50</td>\n",
       "      <td>106.54</td>\n",
       "      <td>106.27</td>\n",
       "      <td>106.46</td>\n",
       "      <td>1940218</td>\n",
       "      <td>NaN</td>\n",
       "      <td>132.01</td>\n",
       "      <td>134.10</td>\n",
       "      <td>131.78</td>\n",
       "      <td>133.91</td>\n",
       "      <td>172082833</td>\n",
       "      <td>NaN</td>\n",
       "    </tr>\n",
       "    <tr>\n",
       "      <th>2011-07-05</th>\n",
       "      <td>106.64</td>\n",
       "      <td>106.82</td>\n",
       "      <td>106.57</td>\n",
       "      <td>106.80</td>\n",
       "      <td>767342</td>\n",
       "      <td>0.003194</td>\n",
       "      <td>133.78</td>\n",
       "      <td>134.08</td>\n",
       "      <td>133.39</td>\n",
       "      <td>133.78</td>\n",
       "      <td>140787252</td>\n",
       "      <td>-0.000971</td>\n",
       "    </tr>\n",
       "    <tr>\n",
       "      <th>2011-07-06</th>\n",
       "      <td>106.79</td>\n",
       "      <td>106.93</td>\n",
       "      <td>106.76</td>\n",
       "      <td>106.87</td>\n",
       "      <td>717918</td>\n",
       "      <td>0.000655</td>\n",
       "      <td>133.49</td>\n",
       "      <td>134.14</td>\n",
       "      <td>133.11</td>\n",
       "      <td>133.96</td>\n",
       "      <td>119084271</td>\n",
       "      <td>0.001345</td>\n",
       "    </tr>\n",
       "    <tr>\n",
       "      <th>2011-07-07</th>\n",
       "      <td>106.63</td>\n",
       "      <td>106.67</td>\n",
       "      <td>106.45</td>\n",
       "      <td>106.55</td>\n",
       "      <td>1249762</td>\n",
       "      <td>-0.002994</td>\n",
       "      <td>135.16</td>\n",
       "      <td>135.70</td>\n",
       "      <td>134.88</td>\n",
       "      <td>135.40</td>\n",
       "      <td>125820939</td>\n",
       "      <td>0.010749</td>\n",
       "    </tr>\n",
       "    <tr>\n",
       "      <th>2011-07-08</th>\n",
       "      <td>106.98</td>\n",
       "      <td>107.20</td>\n",
       "      <td>106.93</td>\n",
       "      <td>107.12</td>\n",
       "      <td>661425</td>\n",
       "      <td>0.005350</td>\n",
       "      <td>133.82</td>\n",
       "      <td>134.44</td>\n",
       "      <td>133.39</td>\n",
       "      <td>134.41</td>\n",
       "      <td>139456296</td>\n",
       "      <td>-0.007312</td>\n",
       "    </tr>\n",
       "  </tbody>\n",
       "</table>\n",
       "</div>"
      ],
      "text/plain": [
       "               AGG                                                   SPY  \\\n",
       "              open    high     low   close   volume daily_return    open   \n",
       "2011-07-01  106.50  106.54  106.27  106.46  1940218          NaN  132.01   \n",
       "2011-07-05  106.64  106.82  106.57  106.80   767342     0.003194  133.78   \n",
       "2011-07-06  106.79  106.93  106.76  106.87   717918     0.000655  133.49   \n",
       "2011-07-07  106.63  106.67  106.45  106.55  1249762    -0.002994  135.16   \n",
       "2011-07-08  106.98  107.20  106.93  107.12   661425     0.005350  133.82   \n",
       "\n",
       "                                                            \n",
       "              high     low   close     volume daily_return  \n",
       "2011-07-01  134.10  131.78  133.91  172082833          NaN  \n",
       "2011-07-05  134.08  133.39  133.78  140787252    -0.000971  \n",
       "2011-07-06  134.14  133.11  133.96  119084271     0.001345  \n",
       "2011-07-07  135.70  134.88  135.40  125820939     0.010749  \n",
       "2011-07-08  134.44  133.39  134.41  139456296    -0.007312  "
      ]
     },
     "execution_count": 44,
     "metadata": {},
     "output_type": "execute_result"
    }
   ],
   "source": [
    "# Review the simulation input data\n",
    "MC_ten_year.portfolio_data.head()"
   ]
  },
  {
   "cell_type": "code",
   "execution_count": 45,
   "metadata": {},
   "outputs": [
    {
     "name": "stdout",
     "output_type": "stream",
     "text": [
      "Running Monte Carlo simulation number 0.\n",
      "Running Monte Carlo simulation number 10.\n",
      "Running Monte Carlo simulation number 20.\n",
      "Running Monte Carlo simulation number 30.\n",
      "Running Monte Carlo simulation number 40.\n",
      "Running Monte Carlo simulation number 50.\n",
      "Running Monte Carlo simulation number 60.\n",
      "Running Monte Carlo simulation number 70.\n",
      "Running Monte Carlo simulation number 80.\n",
      "Running Monte Carlo simulation number 90.\n",
      "Running Monte Carlo simulation number 100.\n",
      "Running Monte Carlo simulation number 110.\n",
      "Running Monte Carlo simulation number 120.\n",
      "Running Monte Carlo simulation number 130.\n",
      "Running Monte Carlo simulation number 140.\n",
      "Running Monte Carlo simulation number 150.\n",
      "Running Monte Carlo simulation number 160.\n",
      "Running Monte Carlo simulation number 170.\n",
      "Running Monte Carlo simulation number 180.\n",
      "Running Monte Carlo simulation number 190.\n",
      "Running Monte Carlo simulation number 200.\n",
      "Running Monte Carlo simulation number 210.\n",
      "Running Monte Carlo simulation number 220.\n",
      "Running Monte Carlo simulation number 230.\n",
      "Running Monte Carlo simulation number 240.\n",
      "Running Monte Carlo simulation number 250.\n",
      "Running Monte Carlo simulation number 260.\n",
      "Running Monte Carlo simulation number 270.\n",
      "Running Monte Carlo simulation number 280.\n",
      "Running Monte Carlo simulation number 290.\n",
      "Running Monte Carlo simulation number 300.\n",
      "Running Monte Carlo simulation number 310.\n",
      "Running Monte Carlo simulation number 320.\n",
      "Running Monte Carlo simulation number 330.\n",
      "Running Monte Carlo simulation number 340.\n",
      "Running Monte Carlo simulation number 350.\n",
      "Running Monte Carlo simulation number 360.\n",
      "Running Monte Carlo simulation number 370.\n",
      "Running Monte Carlo simulation number 380.\n",
      "Running Monte Carlo simulation number 390.\n",
      "Running Monte Carlo simulation number 400.\n",
      "Running Monte Carlo simulation number 410.\n",
      "Running Monte Carlo simulation number 420.\n",
      "Running Monte Carlo simulation number 430.\n",
      "Running Monte Carlo simulation number 440.\n",
      "Running Monte Carlo simulation number 450.\n",
      "Running Monte Carlo simulation number 460.\n",
      "Running Monte Carlo simulation number 470.\n",
      "Running Monte Carlo simulation number 480.\n",
      "Running Monte Carlo simulation number 490.\n"
     ]
    },
    {
     "data": {
      "text/html": [
       "<div>\n",
       "<style scoped>\n",
       "    .dataframe tbody tr th:only-of-type {\n",
       "        vertical-align: middle;\n",
       "    }\n",
       "\n",
       "    .dataframe tbody tr th {\n",
       "        vertical-align: top;\n",
       "    }\n",
       "\n",
       "    .dataframe thead th {\n",
       "        text-align: right;\n",
       "    }\n",
       "</style>\n",
       "<table border=\"1\" class=\"dataframe\">\n",
       "  <thead>\n",
       "    <tr style=\"text-align: right;\">\n",
       "      <th></th>\n",
       "      <th>0</th>\n",
       "      <th>1</th>\n",
       "      <th>2</th>\n",
       "      <th>3</th>\n",
       "      <th>4</th>\n",
       "      <th>5</th>\n",
       "      <th>6</th>\n",
       "      <th>7</th>\n",
       "      <th>8</th>\n",
       "      <th>9</th>\n",
       "      <th>...</th>\n",
       "      <th>490</th>\n",
       "      <th>491</th>\n",
       "      <th>492</th>\n",
       "      <th>493</th>\n",
       "      <th>494</th>\n",
       "      <th>495</th>\n",
       "      <th>496</th>\n",
       "      <th>497</th>\n",
       "      <th>498</th>\n",
       "      <th>499</th>\n",
       "    </tr>\n",
       "  </thead>\n",
       "  <tbody>\n",
       "    <tr>\n",
       "      <th>0</th>\n",
       "      <td>1.000000</td>\n",
       "      <td>1.000000</td>\n",
       "      <td>1.000000</td>\n",
       "      <td>1.000000</td>\n",
       "      <td>1.000000</td>\n",
       "      <td>1.000000</td>\n",
       "      <td>1.000000</td>\n",
       "      <td>1.000000</td>\n",
       "      <td>1.000000</td>\n",
       "      <td>1.000000</td>\n",
       "      <td>...</td>\n",
       "      <td>1.000000</td>\n",
       "      <td>1.000000</td>\n",
       "      <td>1.000000</td>\n",
       "      <td>1.000000</td>\n",
       "      <td>1.000000</td>\n",
       "      <td>1.000000</td>\n",
       "      <td>1.000000</td>\n",
       "      <td>1.000000</td>\n",
       "      <td>1.000000</td>\n",
       "      <td>1.000000</td>\n",
       "    </tr>\n",
       "    <tr>\n",
       "      <th>1</th>\n",
       "      <td>1.005364</td>\n",
       "      <td>1.006308</td>\n",
       "      <td>1.001914</td>\n",
       "      <td>0.991355</td>\n",
       "      <td>1.000114</td>\n",
       "      <td>1.009657</td>\n",
       "      <td>0.995571</td>\n",
       "      <td>0.999862</td>\n",
       "      <td>1.006742</td>\n",
       "      <td>0.998028</td>\n",
       "      <td>...</td>\n",
       "      <td>1.000601</td>\n",
       "      <td>0.990866</td>\n",
       "      <td>0.992890</td>\n",
       "      <td>0.997533</td>\n",
       "      <td>1.000088</td>\n",
       "      <td>0.998151</td>\n",
       "      <td>0.985407</td>\n",
       "      <td>0.998403</td>\n",
       "      <td>0.998852</td>\n",
       "      <td>1.012184</td>\n",
       "    </tr>\n",
       "    <tr>\n",
       "      <th>2</th>\n",
       "      <td>0.997512</td>\n",
       "      <td>0.995345</td>\n",
       "      <td>0.996197</td>\n",
       "      <td>0.999931</td>\n",
       "      <td>1.002464</td>\n",
       "      <td>1.012869</td>\n",
       "      <td>0.977219</td>\n",
       "      <td>0.997061</td>\n",
       "      <td>0.998669</td>\n",
       "      <td>1.010209</td>\n",
       "      <td>...</td>\n",
       "      <td>1.008702</td>\n",
       "      <td>0.995267</td>\n",
       "      <td>0.990874</td>\n",
       "      <td>0.989266</td>\n",
       "      <td>0.988308</td>\n",
       "      <td>0.999746</td>\n",
       "      <td>0.975913</td>\n",
       "      <td>1.005726</td>\n",
       "      <td>1.004126</td>\n",
       "      <td>1.035993</td>\n",
       "    </tr>\n",
       "    <tr>\n",
       "      <th>3</th>\n",
       "      <td>0.987369</td>\n",
       "      <td>0.997165</td>\n",
       "      <td>0.991357</td>\n",
       "      <td>0.995716</td>\n",
       "      <td>1.001868</td>\n",
       "      <td>1.024713</td>\n",
       "      <td>0.978448</td>\n",
       "      <td>1.003293</td>\n",
       "      <td>0.998571</td>\n",
       "      <td>1.008003</td>\n",
       "      <td>...</td>\n",
       "      <td>0.993406</td>\n",
       "      <td>0.977663</td>\n",
       "      <td>0.986215</td>\n",
       "      <td>0.991173</td>\n",
       "      <td>1.001293</td>\n",
       "      <td>1.001237</td>\n",
       "      <td>0.975545</td>\n",
       "      <td>1.018690</td>\n",
       "      <td>0.995715</td>\n",
       "      <td>1.032611</td>\n",
       "    </tr>\n",
       "    <tr>\n",
       "      <th>4</th>\n",
       "      <td>0.983756</td>\n",
       "      <td>1.008955</td>\n",
       "      <td>0.994098</td>\n",
       "      <td>0.989970</td>\n",
       "      <td>0.999235</td>\n",
       "      <td>1.017897</td>\n",
       "      <td>0.970825</td>\n",
       "      <td>1.009596</td>\n",
       "      <td>1.000417</td>\n",
       "      <td>1.003242</td>\n",
       "      <td>...</td>\n",
       "      <td>0.992543</td>\n",
       "      <td>0.985762</td>\n",
       "      <td>0.978754</td>\n",
       "      <td>0.989690</td>\n",
       "      <td>1.002870</td>\n",
       "      <td>1.000019</td>\n",
       "      <td>0.981275</td>\n",
       "      <td>1.006257</td>\n",
       "      <td>0.989941</td>\n",
       "      <td>1.029505</td>\n",
       "    </tr>\n",
       "    <tr>\n",
       "      <th>...</th>\n",
       "      <td>...</td>\n",
       "      <td>...</td>\n",
       "      <td>...</td>\n",
       "      <td>...</td>\n",
       "      <td>...</td>\n",
       "      <td>...</td>\n",
       "      <td>...</td>\n",
       "      <td>...</td>\n",
       "      <td>...</td>\n",
       "      <td>...</td>\n",
       "      <td>...</td>\n",
       "      <td>...</td>\n",
       "      <td>...</td>\n",
       "      <td>...</td>\n",
       "      <td>...</td>\n",
       "      <td>...</td>\n",
       "      <td>...</td>\n",
       "      <td>...</td>\n",
       "      <td>...</td>\n",
       "      <td>...</td>\n",
       "      <td>...</td>\n",
       "    </tr>\n",
       "    <tr>\n",
       "      <th>2516</th>\n",
       "      <td>1.849578</td>\n",
       "      <td>3.872282</td>\n",
       "      <td>3.080040</td>\n",
       "      <td>2.399815</td>\n",
       "      <td>2.362139</td>\n",
       "      <td>2.554590</td>\n",
       "      <td>1.610509</td>\n",
       "      <td>1.435123</td>\n",
       "      <td>2.523877</td>\n",
       "      <td>3.337392</td>\n",
       "      <td>...</td>\n",
       "      <td>1.364071</td>\n",
       "      <td>1.775324</td>\n",
       "      <td>2.166210</td>\n",
       "      <td>1.863337</td>\n",
       "      <td>2.963018</td>\n",
       "      <td>3.194014</td>\n",
       "      <td>4.363533</td>\n",
       "      <td>2.450284</td>\n",
       "      <td>3.794981</td>\n",
       "      <td>4.486817</td>\n",
       "    </tr>\n",
       "    <tr>\n",
       "      <th>2517</th>\n",
       "      <td>1.862212</td>\n",
       "      <td>3.839605</td>\n",
       "      <td>3.062903</td>\n",
       "      <td>2.392603</td>\n",
       "      <td>2.344448</td>\n",
       "      <td>2.579339</td>\n",
       "      <td>1.610738</td>\n",
       "      <td>1.429540</td>\n",
       "      <td>2.541549</td>\n",
       "      <td>3.299200</td>\n",
       "      <td>...</td>\n",
       "      <td>1.338432</td>\n",
       "      <td>1.781558</td>\n",
       "      <td>2.164156</td>\n",
       "      <td>1.875007</td>\n",
       "      <td>3.009260</td>\n",
       "      <td>3.196697</td>\n",
       "      <td>4.349709</td>\n",
       "      <td>2.422646</td>\n",
       "      <td>3.740871</td>\n",
       "      <td>4.479585</td>\n",
       "    </tr>\n",
       "    <tr>\n",
       "      <th>2518</th>\n",
       "      <td>1.869581</td>\n",
       "      <td>3.901865</td>\n",
       "      <td>3.078064</td>\n",
       "      <td>2.384005</td>\n",
       "      <td>2.358087</td>\n",
       "      <td>2.562457</td>\n",
       "      <td>1.608738</td>\n",
       "      <td>1.420784</td>\n",
       "      <td>2.509230</td>\n",
       "      <td>3.313288</td>\n",
       "      <td>...</td>\n",
       "      <td>1.349541</td>\n",
       "      <td>1.770892</td>\n",
       "      <td>2.182056</td>\n",
       "      <td>1.862817</td>\n",
       "      <td>3.017865</td>\n",
       "      <td>3.147232</td>\n",
       "      <td>4.305469</td>\n",
       "      <td>2.446507</td>\n",
       "      <td>3.737023</td>\n",
       "      <td>4.493188</td>\n",
       "    </tr>\n",
       "    <tr>\n",
       "      <th>2519</th>\n",
       "      <td>1.879380</td>\n",
       "      <td>3.866546</td>\n",
       "      <td>3.044597</td>\n",
       "      <td>2.379684</td>\n",
       "      <td>2.351124</td>\n",
       "      <td>2.562171</td>\n",
       "      <td>1.601802</td>\n",
       "      <td>1.395059</td>\n",
       "      <td>2.516941</td>\n",
       "      <td>3.268453</td>\n",
       "      <td>...</td>\n",
       "      <td>1.359210</td>\n",
       "      <td>1.791323</td>\n",
       "      <td>2.195122</td>\n",
       "      <td>1.866362</td>\n",
       "      <td>3.000523</td>\n",
       "      <td>3.179560</td>\n",
       "      <td>4.337896</td>\n",
       "      <td>2.477073</td>\n",
       "      <td>3.739645</td>\n",
       "      <td>4.480213</td>\n",
       "    </tr>\n",
       "    <tr>\n",
       "      <th>2520</th>\n",
       "      <td>1.875842</td>\n",
       "      <td>3.898706</td>\n",
       "      <td>2.973945</td>\n",
       "      <td>2.364074</td>\n",
       "      <td>2.382283</td>\n",
       "      <td>2.593457</td>\n",
       "      <td>1.598429</td>\n",
       "      <td>1.381448</td>\n",
       "      <td>2.513624</td>\n",
       "      <td>3.305205</td>\n",
       "      <td>...</td>\n",
       "      <td>1.359327</td>\n",
       "      <td>1.815164</td>\n",
       "      <td>2.217187</td>\n",
       "      <td>1.883969</td>\n",
       "      <td>3.024845</td>\n",
       "      <td>3.136229</td>\n",
       "      <td>4.393673</td>\n",
       "      <td>2.490386</td>\n",
       "      <td>3.789277</td>\n",
       "      <td>4.391478</td>\n",
       "    </tr>\n",
       "  </tbody>\n",
       "</table>\n",
       "<p>2521 rows × 500 columns</p>\n",
       "</div>"
      ],
      "text/plain": [
       "           0         1         2         3         4         5         6    \\\n",
       "0     1.000000  1.000000  1.000000  1.000000  1.000000  1.000000  1.000000   \n",
       "1     1.005364  1.006308  1.001914  0.991355  1.000114  1.009657  0.995571   \n",
       "2     0.997512  0.995345  0.996197  0.999931  1.002464  1.012869  0.977219   \n",
       "3     0.987369  0.997165  0.991357  0.995716  1.001868  1.024713  0.978448   \n",
       "4     0.983756  1.008955  0.994098  0.989970  0.999235  1.017897  0.970825   \n",
       "...        ...       ...       ...       ...       ...       ...       ...   \n",
       "2516  1.849578  3.872282  3.080040  2.399815  2.362139  2.554590  1.610509   \n",
       "2517  1.862212  3.839605  3.062903  2.392603  2.344448  2.579339  1.610738   \n",
       "2518  1.869581  3.901865  3.078064  2.384005  2.358087  2.562457  1.608738   \n",
       "2519  1.879380  3.866546  3.044597  2.379684  2.351124  2.562171  1.601802   \n",
       "2520  1.875842  3.898706  2.973945  2.364074  2.382283  2.593457  1.598429   \n",
       "\n",
       "           7         8         9    ...       490       491       492  \\\n",
       "0     1.000000  1.000000  1.000000  ...  1.000000  1.000000  1.000000   \n",
       "1     0.999862  1.006742  0.998028  ...  1.000601  0.990866  0.992890   \n",
       "2     0.997061  0.998669  1.010209  ...  1.008702  0.995267  0.990874   \n",
       "3     1.003293  0.998571  1.008003  ...  0.993406  0.977663  0.986215   \n",
       "4     1.009596  1.000417  1.003242  ...  0.992543  0.985762  0.978754   \n",
       "...        ...       ...       ...  ...       ...       ...       ...   \n",
       "2516  1.435123  2.523877  3.337392  ...  1.364071  1.775324  2.166210   \n",
       "2517  1.429540  2.541549  3.299200  ...  1.338432  1.781558  2.164156   \n",
       "2518  1.420784  2.509230  3.313288  ...  1.349541  1.770892  2.182056   \n",
       "2519  1.395059  2.516941  3.268453  ...  1.359210  1.791323  2.195122   \n",
       "2520  1.381448  2.513624  3.305205  ...  1.359327  1.815164  2.217187   \n",
       "\n",
       "           493       494       495       496       497       498       499  \n",
       "0     1.000000  1.000000  1.000000  1.000000  1.000000  1.000000  1.000000  \n",
       "1     0.997533  1.000088  0.998151  0.985407  0.998403  0.998852  1.012184  \n",
       "2     0.989266  0.988308  0.999746  0.975913  1.005726  1.004126  1.035993  \n",
       "3     0.991173  1.001293  1.001237  0.975545  1.018690  0.995715  1.032611  \n",
       "4     0.989690  1.002870  1.000019  0.981275  1.006257  0.989941  1.029505  \n",
       "...        ...       ...       ...       ...       ...       ...       ...  \n",
       "2516  1.863337  2.963018  3.194014  4.363533  2.450284  3.794981  4.486817  \n",
       "2517  1.875007  3.009260  3.196697  4.349709  2.422646  3.740871  4.479585  \n",
       "2518  1.862817  3.017865  3.147232  4.305469  2.446507  3.737023  4.493188  \n",
       "2519  1.866362  3.000523  3.179560  4.337896  2.477073  3.739645  4.480213  \n",
       "2520  1.883969  3.024845  3.136229  4.393673  2.490386  3.789277  4.391478  \n",
       "\n",
       "[2521 rows x 500 columns]"
      ]
     },
     "execution_count": 45,
     "metadata": {},
     "output_type": "execute_result"
    }
   ],
   "source": [
    "# Run the Monte Carlo simulation to forecast 10 years cumulative returns\n",
    "MC_ten_year.calc_cumulative_return()\n"
   ]
  },
  {
   "cell_type": "code",
   "execution_count": 46,
   "metadata": {},
   "outputs": [
    {
     "data": {
      "image/png": "[encoded data removed]",
      "text/plain": [
       "<Figure size 432x288 with 1 Axes>"
      ]
     },
     "metadata": {
      "needs_background": "light"
     },
     "output_type": "display_data"
    }
   ],
   "source": [
    "# Visualize the 10-year Monte Carlo simulation by creating an\n",
    "# overlay line plot\n",
    "MC_ten_line_plot = MC_ten_year.plot_simulation()\n"
   ]
  },
  {
   "cell_type": "code",
   "execution_count": 47,
   "metadata": {},
   "outputs": [
    {
     "data": {
      "image/png": "[encoded data removed]",
      "text/plain": [
       "<Figure size 432x288 with 1 Axes>"
      ]
     },
     "metadata": {
      "needs_background": "light"
     },
     "output_type": "display_data"
    }
   ],
   "source": [
    "# Visualize the probability distribution of the 10-year Monte Carlo simulation \n",
    "# by plotting a histogram\n",
    "MC_ten_dist_plot = MC_ten_year.plot_distribution()\n"
   ]
  },
  {
   "cell_type": "code",
   "execution_count": 49,
   "metadata": {},
   "outputs": [
    {
     "data": {
      "text/plain": [
       "count           500.000000\n",
       "mean              2.959518\n",
       "std               1.461840\n",
       "min               0.669990\n",
       "25%               1.960306\n",
       "50%               2.604052\n",
       "75%               3.625951\n",
       "max              10.973950\n",
       "95% CI Lower      1.147007\n",
       "95% CI Upper      6.827060\n",
       "Name: 2520, dtype: float64"
      ]
     },
     "execution_count": 49,
     "metadata": {},
     "output_type": "execute_result"
    }
   ],
   "source": [
    "# Generate summary statistics from the 10-year Monte Carlo simulation results\n",
    "# Save the results as a variable\n",
    "MC_ten_statistics = MC_ten_year.summarize_cumulative_return()\n",
    "\n",
    "\n",
    "# Review the 10-year Monte Carlo summary statistics\n",
    "MC_ten_statistics"
   ]
  },
  {
   "cell_type": "markdown",
   "metadata": {},
   "source": [
    "### Answer the following questions:"
   ]
  },
  {
   "cell_type": "markdown",
   "metadata": {},
   "source": [
    "#### Question: Using the current value of only the stock and bond portion of the member's portfolio and the summary statistics that you generated from the new Monte Carlo simulation, what are the lower and upper bounds for the expected value of the portfolio (with the new weights) with a 95% confidence interval?"
   ]
  },
  {
   "cell_type": "code",
   "execution_count": 50,
   "metadata": {},
   "outputs": [
    {
     "name": "stdout",
     "output_type": "stream",
     "text": [
      "70158.79999999999\n"
     ]
    }
   ],
   "source": [
    "# Print the current balance of the stock and bond portion of the members portfolio\n",
    "print(total_stocks_bonds)\n"
   ]
  },
  {
   "cell_type": "code",
   "execution_count": 53,
   "metadata": {},
   "outputs": [
    {
     "name": "stdout",
     "output_type": "stream",
     "text": [
      "There is a 95% chance that present portfolio with a 80% allocation to SPY and 20% allocation to AGG over the next 10 years will end within in the range of $ 80472.63 and $ 478978.31.\n"
     ]
    }
   ],
   "source": [
    "# Use the lower and upper `95%` confidence intervals to calculate the range of the possible outcomes for the current stock/bond portfolio\n",
    "ci_lower_ten_cumulative_return = MC_ten_statistics[8] * total_stocks_bonds\n",
    "ci_upper_ten_cumulative_return = MC_ten_statistics[9] * total_stocks_bonds\n",
    "\n",
    "# Print the result of your calculations\n",
    "print(f\"There is a 95% chance that present portfolio with a 80% allocation to SPY and 20% allocation to AGG over the next 10 years will end within in the range of ${ci_lower_ten_cumulative_return: .2f} and ${ci_upper_ten_cumulative_return: .2f}.\")\n"
   ]
  },
  {
   "cell_type": "markdown",
   "metadata": {},
   "source": [
    "#### Question: Will weighting the portfolio more heavily to stocks allow the credit union members to retire after only 10 years?"
   ]
  },
  {
   "cell_type": "raw",
   "metadata": {},
   "source": [
    "**Answer** # Even with the increased weighting towards equity, a ten year investment time horizon will most likely not produce sufficient returns for retirement."
   ]
  },
  {
   "cell_type": "code",
   "execution_count": null,
   "metadata": {},
   "outputs": [],
   "source": []
  }
 ],
 "metadata": {
  "kernelspec": {
   "display_name": "Python 3",
   "language": "python",
   "name": "python3"
  },
  "language_info": {
   "codemirror_mode": {
    "name": "ipython",
    "version": 3
   },
   "file_extension": ".py",
   "mimetype": "text/x-python",
   "name": "python",
   "nbconvert_exporter": "python",
   "pygments_lexer": "ipython3",
   "version": "3.7.10"
  }
 },
 "nbformat": 4,
 "nbformat_minor": 4
}
